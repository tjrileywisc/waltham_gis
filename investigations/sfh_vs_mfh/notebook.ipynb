{
 "cells": [
  {
   "attachments": {},
   "cell_type": "markdown",
   "metadata": {},
   "source": [
    "# Single family (SFH) vs. Multi family (MFH) homes\n",
    "\n",
    "## Hypothesis\n",
    "Our zoning code strongly discourages multi-family homes. Are city government representatives fairly representing their voters, or their districts?"
   ]
  },
  {
   "cell_type": "code",
   "execution_count": 1,
   "metadata": {},
   "outputs": [],
   "source": [
    "import pandas as pd\n",
    "import geopandas as geo_pd\n",
    "import dvc.api"
   ]
  },
  {
   "cell_type": "code",
   "execution_count": 3,
   "metadata": {},
   "outputs": [
    {
     "ename": "FileMissingError",
     "evalue": "Can't find 'wardsprecincts2022_poly.zip' neither locally nor on remote",
     "output_type": "error",
     "traceback": [
      "\u001b[1;31m---------------------------------------------------------------------------\u001b[0m",
      "\u001b[1;31mKeyError\u001b[0m                                  Traceback (most recent call last)",
      "File \u001b[1;32mc:\\workspace\\waltham_gis\\.venv\\lib\\site-packages\\dvc_data\\index\\index.py:385\u001b[0m, in \u001b[0;36mBaseDataIndex.info\u001b[1;34m(self, key)\u001b[0m\n\u001b[0;32m    384\u001b[0m \u001b[39mtry\u001b[39;00m:\n\u001b[1;32m--> 385\u001b[0m     entry \u001b[39m=\u001b[39m \u001b[39mself\u001b[39;49m[key]\n\u001b[0;32m    386\u001b[0m \u001b[39mexcept\u001b[39;00m ShortKeyError:\n",
      "File \u001b[1;32mc:\\workspace\\waltham_gis\\.venv\\lib\\site-packages\\dvc_data\\index\\index.py:438\u001b[0m, in \u001b[0;36mDataIndex.__getitem__\u001b[1;34m(self, key)\u001b[0m\n\u001b[0;32m    436\u001b[0m     \u001b[39mself\u001b[39m\u001b[39m.\u001b[39m_load(dir_key, dir_entry)\n\u001b[1;32m--> 438\u001b[0m \u001b[39mreturn\u001b[39;00m \u001b[39mself\u001b[39;49m\u001b[39m.\u001b[39;49m_trie[key]\n",
      "File \u001b[1;32mc:\\workspace\\waltham_gis\\.venv\\lib\\site-packages\\sqltrie\\pygtrie.py:41\u001b[0m, in \u001b[0;36mPyGTrie.__getitem__\u001b[1;34m(self, key)\u001b[0m\n\u001b[0;32m     40\u001b[0m \u001b[39mtry\u001b[39;00m:\n\u001b[1;32m---> 41\u001b[0m     \u001b[39mreturn\u001b[39;00m \u001b[39mself\u001b[39;49m\u001b[39m.\u001b[39;49m_trie[key]\n\u001b[0;32m     42\u001b[0m \u001b[39mexcept\u001b[39;00m pygtrie\u001b[39m.\u001b[39mShortKeyError \u001b[39mas\u001b[39;00m exc:\n",
      "File \u001b[1;32mc:\\workspace\\waltham_gis\\.venv\\lib\\site-packages\\pygtrie.py:937\u001b[0m, in \u001b[0;36mTrie.__getitem__\u001b[1;34m(self, key_or_slice)\u001b[0m\n\u001b[0;32m    936\u001b[0m     \u001b[39mreturn\u001b[39;00m \u001b[39mself\u001b[39m\u001b[39m.\u001b[39mitervalues(key_or_slice\u001b[39m.\u001b[39mstart)\n\u001b[1;32m--> 937\u001b[0m node, _ \u001b[39m=\u001b[39m \u001b[39mself\u001b[39;49m\u001b[39m.\u001b[39;49m_get_node(key_or_slice)\n\u001b[0;32m    938\u001b[0m \u001b[39mif\u001b[39;00m node\u001b[39m.\u001b[39mvalue \u001b[39mis\u001b[39;00m _EMPTY:\n",
      "File \u001b[1;32mc:\\workspace\\waltham_gis\\.venv\\lib\\site-packages\\pygtrie.py:630\u001b[0m, in \u001b[0;36mTrie._get_node\u001b[1;34m(self, key)\u001b[0m\n\u001b[0;32m    629\u001b[0m \u001b[39mif\u001b[39;00m node \u001b[39mis\u001b[39;00m \u001b[39mNone\u001b[39;00m:\n\u001b[1;32m--> 630\u001b[0m     \u001b[39mraise\u001b[39;00m \u001b[39mKeyError\u001b[39;00m(key)\n\u001b[0;32m    631\u001b[0m trace\u001b[39m.\u001b[39mappend((step, node))\n",
      "\u001b[1;31mKeyError\u001b[0m: ('wardsprecincts2022_poly.zip',)",
      "\nThe above exception was the direct cause of the following exception:\n",
      "\u001b[1;31mFileNotFoundError\u001b[0m                         Traceback (most recent call last)",
      "File \u001b[1;32mc:\\workspace\\waltham_gis\\.venv\\lib\\site-packages\\dvc\\repo\\__init__.py:569\u001b[0m, in \u001b[0;36mRepo.open_by_relpath\u001b[1;34m(self, path, remote, mode, encoding)\u001b[0m\n\u001b[0;32m    567\u001b[0m     fs_path \u001b[39m=\u001b[39m remote_odb\u001b[39m.\u001b[39moid_to_path(oid)\n\u001b[1;32m--> 569\u001b[0m \u001b[39mwith\u001b[39;00m fs\u001b[39m.\u001b[39;49mopen(\n\u001b[0;32m    570\u001b[0m     fs_path,\n\u001b[0;32m    571\u001b[0m     mode\u001b[39m=\u001b[39;49mmode,\n\u001b[0;32m    572\u001b[0m     encoding\u001b[39m=\u001b[39;49mencoding,\n\u001b[0;32m    573\u001b[0m ) \u001b[39mas\u001b[39;00m fobj:\n\u001b[0;32m    574\u001b[0m     \u001b[39myield\u001b[39;00m fobj\n",
      "File \u001b[1;32mc:\\workspace\\waltham_gis\\.venv\\lib\\site-packages\\dvc_objects\\fs\\base.py:194\u001b[0m, in \u001b[0;36mFileSystem.open\u001b[1;34m(self, path, mode, **kwargs)\u001b[0m\n\u001b[0;32m    193\u001b[0m     kwargs\u001b[39m.\u001b[39mpop(\u001b[39m\"\u001b[39m\u001b[39mencoding\u001b[39m\u001b[39m\"\u001b[39m, \u001b[39mNone\u001b[39;00m)\n\u001b[1;32m--> 194\u001b[0m \u001b[39mreturn\u001b[39;00m \u001b[39mself\u001b[39m\u001b[39m.\u001b[39mfs\u001b[39m.\u001b[39mopen(path, mode\u001b[39m=\u001b[39mmode, \u001b[39m*\u001b[39m\u001b[39m*\u001b[39mkwargs)\n",
      "File \u001b[1;32mc:\\workspace\\waltham_gis\\.venv\\lib\\site-packages\\fsspec\\spec.py:1123\u001b[0m, in \u001b[0;36mAbstractFileSystem.open\u001b[1;34m(self, path, mode, block_size, cache_options, compression, **kwargs)\u001b[0m\n\u001b[0;32m   1117\u001b[0m     text_kwargs \u001b[39m=\u001b[39m {\n\u001b[0;32m   1118\u001b[0m         k: kwargs\u001b[39m.\u001b[39mpop(k)\n\u001b[0;32m   1119\u001b[0m         \u001b[39mfor\u001b[39;00m k \u001b[39min\u001b[39;00m [\u001b[39m\"\u001b[39m\u001b[39mencoding\u001b[39m\u001b[39m\"\u001b[39m, \u001b[39m\"\u001b[39m\u001b[39merrors\u001b[39m\u001b[39m\"\u001b[39m, \u001b[39m\"\u001b[39m\u001b[39mnewline\u001b[39m\u001b[39m\"\u001b[39m]\n\u001b[0;32m   1120\u001b[0m         \u001b[39mif\u001b[39;00m k \u001b[39min\u001b[39;00m kwargs\n\u001b[0;32m   1121\u001b[0m     }\n\u001b[0;32m   1122\u001b[0m     \u001b[39mreturn\u001b[39;00m io\u001b[39m.\u001b[39mTextIOWrapper(\n\u001b[1;32m-> 1123\u001b[0m         \u001b[39mself\u001b[39m\u001b[39m.\u001b[39mopen(\n\u001b[0;32m   1124\u001b[0m             path,\n\u001b[0;32m   1125\u001b[0m             mode,\n\u001b[0;32m   1126\u001b[0m             block_size\u001b[39m=\u001b[39mblock_size,\n\u001b[0;32m   1127\u001b[0m             cache_options\u001b[39m=\u001b[39mcache_options,\n\u001b[0;32m   1128\u001b[0m             compression\u001b[39m=\u001b[39mcompression,\n\u001b[0;32m   1129\u001b[0m             \u001b[39m*\u001b[39m\u001b[39m*\u001b[39mkwargs,\n\u001b[0;32m   1130\u001b[0m         ),\n\u001b[0;32m   1131\u001b[0m         \u001b[39m*\u001b[39m\u001b[39m*\u001b[39mtext_kwargs,\n\u001b[0;32m   1132\u001b[0m     )\n\u001b[0;32m   1133\u001b[0m \u001b[39melse\u001b[39;00m:\n",
      "File \u001b[1;32mc:\\workspace\\waltham_gis\\.venv\\lib\\site-packages\\fsspec\\spec.py:1135\u001b[0m, in \u001b[0;36mAbstractFileSystem.open\u001b[1;34m(self, path, mode, block_size, cache_options, compression, **kwargs)\u001b[0m\n\u001b[0;32m   1134\u001b[0m ac \u001b[39m=\u001b[39m kwargs\u001b[39m.\u001b[39mpop(\u001b[39m\"\u001b[39m\u001b[39mautocommit\u001b[39m\u001b[39m\"\u001b[39m, \u001b[39mnot\u001b[39;00m \u001b[39mself\u001b[39m\u001b[39m.\u001b[39m_intrans)\n\u001b[1;32m-> 1135\u001b[0m f \u001b[39m=\u001b[39m \u001b[39mself\u001b[39m\u001b[39m.\u001b[39m_open(\n\u001b[0;32m   1136\u001b[0m     path,\n\u001b[0;32m   1137\u001b[0m     mode\u001b[39m=\u001b[39mmode,\n\u001b[0;32m   1138\u001b[0m     block_size\u001b[39m=\u001b[39mblock_size,\n\u001b[0;32m   1139\u001b[0m     autocommit\u001b[39m=\u001b[39mac,\n\u001b[0;32m   1140\u001b[0m     cache_options\u001b[39m=\u001b[39mcache_options,\n\u001b[0;32m   1141\u001b[0m     \u001b[39m*\u001b[39m\u001b[39m*\u001b[39mkwargs,\n\u001b[0;32m   1142\u001b[0m )\n\u001b[0;32m   1143\u001b[0m \u001b[39mif\u001b[39;00m compression \u001b[39mis\u001b[39;00m \u001b[39mnot\u001b[39;00m \u001b[39mNone\u001b[39;00m:\n",
      "File \u001b[1;32mc:\\workspace\\waltham_gis\\.venv\\lib\\site-packages\\dvc\\fs\\dvc.py:259\u001b[0m, in \u001b[0;36m_DVCFileSystem._open\u001b[1;34m(self, path, mode, **kwargs)\u001b[0m\n\u001b[0;32m    258\u001b[0m dvc_path \u001b[39m=\u001b[39m _get_dvc_path(dvc_fs, subkey)\n\u001b[1;32m--> 259\u001b[0m \u001b[39mreturn\u001b[39;00m dvc_fs\u001b[39m.\u001b[39;49mopen(dvc_path, mode\u001b[39m=\u001b[39;49mmode)\n",
      "File \u001b[1;32mc:\\workspace\\waltham_gis\\.venv\\lib\\site-packages\\dvc_objects\\fs\\base.py:194\u001b[0m, in \u001b[0;36mFileSystem.open\u001b[1;34m(self, path, mode, **kwargs)\u001b[0m\n\u001b[0;32m    193\u001b[0m     kwargs\u001b[39m.\u001b[39mpop(\u001b[39m\"\u001b[39m\u001b[39mencoding\u001b[39m\u001b[39m\"\u001b[39m, \u001b[39mNone\u001b[39;00m)\n\u001b[1;32m--> 194\u001b[0m \u001b[39mreturn\u001b[39;00m \u001b[39mself\u001b[39m\u001b[39m.\u001b[39mfs\u001b[39m.\u001b[39mopen(path, mode\u001b[39m=\u001b[39mmode, \u001b[39m*\u001b[39m\u001b[39m*\u001b[39mkwargs)\n",
      "File \u001b[1;32mc:\\workspace\\waltham_gis\\.venv\\lib\\site-packages\\dvc_data\\fs.py:78\u001b[0m, in \u001b[0;36mDataFileSystem.open\u001b[1;34m(self, path, mode, encoding, **kwargs)\u001b[0m\n\u001b[0;32m     75\u001b[0m \u001b[39mdef\u001b[39;00m \u001b[39mopen\u001b[39m(  \u001b[39m# type: ignore\u001b[39;00m\n\u001b[0;32m     76\u001b[0m     \u001b[39mself\u001b[39m, path: \u001b[39mstr\u001b[39m, mode\u001b[39m=\u001b[39m\u001b[39m\"\u001b[39m\u001b[39mr\u001b[39m\u001b[39m\"\u001b[39m, encoding\u001b[39m=\u001b[39m\u001b[39mNone\u001b[39;00m, \u001b[39m*\u001b[39m\u001b[39m*\u001b[39mkwargs\n\u001b[0;32m     77\u001b[0m ):  \u001b[39m# pylint: disable=arguments-renamed, arguments-differ\u001b[39;00m\n\u001b[1;32m---> 78\u001b[0m     fs, fspath \u001b[39m=\u001b[39m \u001b[39mself\u001b[39m\u001b[39m.\u001b[39m_get_fs_path(path, \u001b[39m*\u001b[39m\u001b[39m*\u001b[39mkwargs)\n\u001b[0;32m     79\u001b[0m     \u001b[39mreturn\u001b[39;00m fs\u001b[39m.\u001b[39mopen(fspath, mode\u001b[39m=\u001b[39mmode, encoding\u001b[39m=\u001b[39mencoding)\n",
      "File \u001b[1;32mc:\\workspace\\waltham_gis\\.venv\\lib\\site-packages\\dvc_data\\fs.py:48\u001b[0m, in \u001b[0;36mDataFileSystem._get_fs_path\u001b[1;34m(self, path)\u001b[0m\n\u001b[0;32m     46\u001b[0m \u001b[39mfrom\u001b[39;00m \u001b[39m.\u001b[39;00m\u001b[39mindex\u001b[39;00m \u001b[39mimport\u001b[39;00m StorageKeyError\n\u001b[1;32m---> 48\u001b[0m info \u001b[39m=\u001b[39m \u001b[39mself\u001b[39;49m\u001b[39m.\u001b[39;49minfo(path)\n\u001b[0;32m     49\u001b[0m \u001b[39mif\u001b[39;00m info[\u001b[39m\"\u001b[39m\u001b[39mtype\u001b[39m\u001b[39m\"\u001b[39m] \u001b[39m==\u001b[39m \u001b[39m\"\u001b[39m\u001b[39mdirectory\u001b[39m\u001b[39m\"\u001b[39m:\n",
      "File \u001b[1;32mc:\\workspace\\waltham_gis\\.venv\\lib\\site-packages\\dvc_data\\fs.py:117\u001b[0m, in \u001b[0;36mDataFileSystem.info\u001b[1;34m(self, path, **kwargs)\u001b[0m\n\u001b[0;32m    116\u001b[0m key \u001b[39m=\u001b[39m \u001b[39mself\u001b[39m\u001b[39m.\u001b[39m_get_key(path)\n\u001b[1;32m--> 117\u001b[0m info \u001b[39m=\u001b[39m \u001b[39mself\u001b[39;49m\u001b[39m.\u001b[39;49mindex\u001b[39m.\u001b[39;49minfo(key)\n\u001b[0;32m    118\u001b[0m info[\u001b[39m\"\u001b[39m\u001b[39mname\u001b[39m\u001b[39m\"\u001b[39m] \u001b[39m=\u001b[39m path\n",
      "File \u001b[1;32mc:\\workspace\\waltham_gis\\.venv\\lib\\site-packages\\dvc_data\\index\\index.py:389\u001b[0m, in \u001b[0;36mBaseDataIndex.info\u001b[1;34m(self, key)\u001b[0m\n\u001b[0;32m    388\u001b[0m \u001b[39mexcept\u001b[39;00m \u001b[39mKeyError\u001b[39;00m \u001b[39mas\u001b[39;00m exc:\n\u001b[1;32m--> 389\u001b[0m     \u001b[39mraise\u001b[39;00m \u001b[39mFileNotFoundError\u001b[39;00m \u001b[39mfrom\u001b[39;00m \u001b[39mexc\u001b[39;00m\n\u001b[0;32m    391\u001b[0m \u001b[39mreturn\u001b[39;00m \u001b[39mself\u001b[39m\u001b[39m.\u001b[39m_info_from_entry(key, entry)\n",
      "\u001b[1;31mFileNotFoundError\u001b[0m: ",
      "\nThe above exception was the direct cause of the following exception:\n",
      "\u001b[1;31mFileMissingError\u001b[0m                          Traceback (most recent call last)",
      "Cell \u001b[1;32mIn[3], line 1\u001b[0m\n\u001b[1;32m----> 1\u001b[0m \u001b[39mwith\u001b[39;00m dvc\u001b[39m.\u001b[39mapi\u001b[39m.\u001b[39mopen(\u001b[39m\"\u001b[39m\u001b[39mwardsprecincts2022_poly.zip\u001b[39m\u001b[39m\"\u001b[39m) \u001b[39mas\u001b[39;00m f:\n\u001b[0;32m      2\u001b[0m     wards_df \u001b[39m=\u001b[39m geo_pd\u001b[39m.\u001b[39mread_file(f)\n",
      "File \u001b[1;32mC:\\Python39\\lib\\contextlib.py:119\u001b[0m, in \u001b[0;36m_GeneratorContextManager.__enter__\u001b[1;34m(self)\u001b[0m\n\u001b[0;32m    117\u001b[0m \u001b[39mdel\u001b[39;00m \u001b[39mself\u001b[39m\u001b[39m.\u001b[39margs, \u001b[39mself\u001b[39m\u001b[39m.\u001b[39mkwds, \u001b[39mself\u001b[39m\u001b[39m.\u001b[39mfunc\n\u001b[0;32m    118\u001b[0m \u001b[39mtry\u001b[39;00m:\n\u001b[1;32m--> 119\u001b[0m     \u001b[39mreturn\u001b[39;00m \u001b[39mnext\u001b[39;49m(\u001b[39mself\u001b[39;49m\u001b[39m.\u001b[39;49mgen)\n\u001b[0;32m    120\u001b[0m \u001b[39mexcept\u001b[39;00m \u001b[39mStopIteration\u001b[39;00m:\n\u001b[0;32m    121\u001b[0m     \u001b[39mraise\u001b[39;00m \u001b[39mRuntimeError\u001b[39;00m(\u001b[39m\"\u001b[39m\u001b[39mgenerator didn\u001b[39m\u001b[39m'\u001b[39m\u001b[39mt yield\u001b[39m\u001b[39m\"\u001b[39m) \u001b[39mfrom\u001b[39;00m \u001b[39mNone\u001b[39m\n",
      "File \u001b[1;32mc:\\workspace\\waltham_gis\\.venv\\lib\\site-packages\\dvc\\api\\data.py:198\u001b[0m, in \u001b[0;36m_open\u001b[1;34m(path, repo, rev, remote, mode, encoding)\u001b[0m\n\u001b[0;32m    196\u001b[0m \u001b[39mdef\u001b[39;00m \u001b[39m_open\u001b[39m(path, repo\u001b[39m=\u001b[39m\u001b[39mNone\u001b[39;00m, rev\u001b[39m=\u001b[39m\u001b[39mNone\u001b[39;00m, remote\u001b[39m=\u001b[39m\u001b[39mNone\u001b[39;00m, mode\u001b[39m=\u001b[39m\u001b[39m\"\u001b[39m\u001b[39mr\u001b[39m\u001b[39m\"\u001b[39m, encoding\u001b[39m=\u001b[39m\u001b[39mNone\u001b[39;00m):\n\u001b[0;32m    197\u001b[0m     \u001b[39mwith\u001b[39;00m Repo\u001b[39m.\u001b[39mopen(repo, rev\u001b[39m=\u001b[39mrev, subrepos\u001b[39m=\u001b[39m\u001b[39mTrue\u001b[39;00m, uninitialized\u001b[39m=\u001b[39m\u001b[39mTrue\u001b[39;00m) \u001b[39mas\u001b[39;00m _repo:\n\u001b[1;32m--> 198\u001b[0m         \u001b[39mwith\u001b[39;00m _repo\u001b[39m.\u001b[39mopen_by_relpath(\n\u001b[0;32m    199\u001b[0m             path, remote\u001b[39m=\u001b[39mremote, mode\u001b[39m=\u001b[39mmode, encoding\u001b[39m=\u001b[39mencoding\n\u001b[0;32m    200\u001b[0m         ) \u001b[39mas\u001b[39;00m fd:\n\u001b[0;32m    201\u001b[0m             \u001b[39myield\u001b[39;00m fd\n",
      "File \u001b[1;32mC:\\Python39\\lib\\contextlib.py:119\u001b[0m, in \u001b[0;36m_GeneratorContextManager.__enter__\u001b[1;34m(self)\u001b[0m\n\u001b[0;32m    117\u001b[0m \u001b[39mdel\u001b[39;00m \u001b[39mself\u001b[39m\u001b[39m.\u001b[39margs, \u001b[39mself\u001b[39m\u001b[39m.\u001b[39mkwds, \u001b[39mself\u001b[39m\u001b[39m.\u001b[39mfunc\n\u001b[0;32m    118\u001b[0m \u001b[39mtry\u001b[39;00m:\n\u001b[1;32m--> 119\u001b[0m     \u001b[39mreturn\u001b[39;00m \u001b[39mnext\u001b[39;49m(\u001b[39mself\u001b[39;49m\u001b[39m.\u001b[39;49mgen)\n\u001b[0;32m    120\u001b[0m \u001b[39mexcept\u001b[39;00m \u001b[39mStopIteration\u001b[39;00m:\n\u001b[0;32m    121\u001b[0m     \u001b[39mraise\u001b[39;00m \u001b[39mRuntimeError\u001b[39;00m(\u001b[39m\"\u001b[39m\u001b[39mgenerator didn\u001b[39m\u001b[39m'\u001b[39m\u001b[39mt yield\u001b[39m\u001b[39m\"\u001b[39m) \u001b[39mfrom\u001b[39;00m \u001b[39mNone\u001b[39m\n",
      "File \u001b[1;32mc:\\workspace\\waltham_gis\\.venv\\lib\\site-packages\\dvc\\repo\\__init__.py:576\u001b[0m, in \u001b[0;36mRepo.open_by_relpath\u001b[1;34m(self, path, remote, mode, encoding)\u001b[0m\n\u001b[0;32m    574\u001b[0m         \u001b[39myield\u001b[39;00m fobj\n\u001b[0;32m    575\u001b[0m \u001b[39mexcept\u001b[39;00m \u001b[39mFileNotFoundError\u001b[39;00m \u001b[39mas\u001b[39;00m exc:\n\u001b[1;32m--> 576\u001b[0m     \u001b[39mraise\u001b[39;00m FileMissingError(path) \u001b[39mfrom\u001b[39;00m \u001b[39mexc\u001b[39;00m\n\u001b[0;32m    577\u001b[0m \u001b[39mexcept\u001b[39;00m \u001b[39mIsADirectoryError\u001b[39;00m \u001b[39mas\u001b[39;00m exc:\n\u001b[0;32m    578\u001b[0m     \u001b[39mraise\u001b[39;00m DvcIsADirectoryError(\u001b[39mf\u001b[39m\u001b[39m\"\u001b[39m\u001b[39m'\u001b[39m\u001b[39m{\u001b[39;00mpath\u001b[39m}\u001b[39;00m\u001b[39m'\u001b[39m\u001b[39m is a directory\u001b[39m\u001b[39m\"\u001b[39m) \u001b[39mfrom\u001b[39;00m \u001b[39mexc\u001b[39;00m\n",
      "\u001b[1;31mFileMissingError\u001b[0m: Can't find 'wardsprecincts2022_poly.zip' neither locally nor on remote"
     ]
    }
   ],
   "source": [
    "with dvc.api.open(\"data/gis/wardsprecincts2022_poly.zip\") as f:\n",
    "    wards_df = geo_pd.read_file(f)"
   ]
  }
 ],
 "metadata": {
  "kernelspec": {
   "display_name": ".venv",
   "language": "python",
   "name": "python3"
  },
  "language_info": {
   "codemirror_mode": {
    "name": "ipython",
    "version": 3
   },
   "file_extension": ".py",
   "mimetype": "text/x-python",
   "name": "python",
   "nbconvert_exporter": "python",
   "pygments_lexer": "ipython3",
   "version": "3.9.13"
  },
  "orig_nbformat": 4,
  "vscode": {
   "interpreter": {
    "hash": "1755a6182d72ab06ca0344c085c035088f067d029332a5181785e944af4c88ea"
   }
  }
 },
 "nbformat": 4,
 "nbformat_minor": 2
}
