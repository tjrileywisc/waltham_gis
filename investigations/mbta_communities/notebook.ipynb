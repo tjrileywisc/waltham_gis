{
 "cells": [
  {
   "cell_type": "code",
   "execution_count": 1,
   "metadata": {},
   "outputs": [],
   "source": [
    "from dvc.api import DVCFileSystem\n",
    "import pandas as pd\n",
    "from io import BytesIO\n",
    "from zipfile import ZipFile\n",
    "import geopandas as geo_pd\n",
    "\n",
    "fs = DVCFileSystem(\"https://github.com/tjrileywisc/waltham_etl\")\n"
   ]
  },
  {
   "cell_type": "code",
   "execution_count": 2,
   "metadata": {},
   "outputs": [],
   "source": [
    "\n",
    "# mbta required\n",
    "MANDATE_REQD = 3_982\n",
    "\n",
    "MFH_CITYWIDE = 15_294\n",
    "\n",
    "# claimed by mayor's office\n",
    "CARTER_ST_CLAIMED = 5_008\n",
    "BRANDEIS_CLAIMED = 540\n",
    "\n",
    "# use codes counted as MFH\n",
    "MFH_CODES = [\n",
    "    \"112\",\n",
    "    \"013\",\n",
    "    \"031\",\n",
    "    \"043\",\n",
    "    \"125\",\n",
    "    \"111\",\n",
    "    \"109\",\n",
    "    \"908\",\n",
    "    \"121\",\n",
    "    \"105\",\n",
    "    \"104\",\n",
    "    \"014\",\n",
    "    \"041\",\n",
    "    \"102\",\n",
    "    \"905\",\n",
    "    \"920\"\n",
    "]"
   ]
  },
  {
   "attachments": {},
   "cell_type": "markdown",
   "metadata": {},
   "source": [
    "## Load current zoning and DHCD detail map for Waltham"
   ]
  },
  {
   "cell_type": "code",
   "execution_count": 43,
   "metadata": {},
   "outputs": [
    {
     "name": "stdout",
     "output_type": "stream",
     "text": [
      "                 LOC_ID                                            Address  \\\n",
      "0      F_720576_2954833            726  SOUTH ST, SOUTH ST, WALTHAM, 02453   \n",
      "1      F_722539_2954565    167  EDGEWATER DR, EDGEWATER DR, WALTHAM, 02453   \n",
      "2      F_722274_2954887    105  EDGEWATER DR, EDGEWATER DR, WALTHAM, 02453   \n",
      "3      F_722477_2954895     44  RIVERSIDE DR, RIVERSIDE DR, WALTHAM, 02453   \n",
      "4      F_722168_2954973     85  KNOLLWOOD DR, KNOLLWOOD DR, WALTHAM, 02453   \n",
      "...                 ...                                                ...   \n",
      "13318  F_724424_2970928           17  MILNER ST, MILNER ST, WALTHAM, 02451   \n",
      "13319  F_723500_2970910           55  CHERYL LN, CHERYL LN, WALTHAM, 02451   \n",
      "13320  F_731397_2970882       71  RAFFAELE DR, RAFFAELE DR, WALTHAM, 02452   \n",
      "13321  F_726321_2970932        0  BRAEMORE RD, BRAEMORE RD, WALTHAM, 02451   \n",
      "13322  F_726015_2970933  295 LOT TRIMOUNT AVE, TRIMOUNT AVE, WALTHAM, 0...   \n",
      "\n",
      "                                Owner UseCodes  \\\n",
      "0                     CITY OF WALTHAM      903   \n",
      "1                     RYAN, G. DEANNA      101   \n",
      "2           CHERYLL GETMAN REV TRUST;      101   \n",
      "3               FULTON, MARGARETTA L.      101   \n",
      "4                BRACELAND, TIMOTHY &      101   \n",
      "...                               ...      ...   \n",
      "13318                WALKER, CATHY L.      101   \n",
      "13319  TERRASI, VINCENZO & CARMELA C.      101   \n",
      "13320        BREEDLOVE, JOHN W. III &      101   \n",
      "13321       BRAEMORE LOTS WALTHAM LLC      132   \n",
      "13322                 CITY OF WALTHAM      903   \n",
      "\n",
      "                                                 UseDesc TRANSIT     ACRES  \\\n",
      "0      (formerly Municipalities/Districts.  Removed J...       Y  0.268435   \n",
      "1                              Single Family Residential       N  3.760119   \n",
      "2                              Single Family Residential       Y  0.552854   \n",
      "3                              Single Family Residential       Y  0.347326   \n",
      "4                              Single Family Residential       Y  0.278369   \n",
      "...                                                  ...     ...       ...   \n",
      "13318                          Single Family Residential       N  0.209421   \n",
      "13319                          Single Family Residential       N  0.290592   \n",
      "13320                          Single Family Residential       N  0.261747   \n",
      "13321                     Undevelopable Residential Land       N  0.029197   \n",
      "13322  (formerly Municipalities/Districts.  Removed J...       N  0.066079   \n",
      "\n",
      "                SQFT    PublicInst      NonPubExc  ...      Wetlands  \\\n",
      "0       11693.049406  11693.792788    2343.604743  ...      0.000000   \n",
      "1      163790.789897      0.000000  112055.168152  ...  90234.398162   \n",
      "2       24082.340199      0.000000     906.091999  ...     23.357678   \n",
      "3       15129.509686      0.000000    3468.070430  ...      0.000000   \n",
      "4       12125.747026      0.000000       0.000000  ...      0.000000   \n",
      "...              ...           ...            ...  ...           ...   \n",
      "13318    9122.383543      0.000000       0.000000  ...      0.000000   \n",
      "13319   12658.209099      0.000000       0.000000  ...      0.000000   \n",
      "13320   11401.683540      0.000000       0.000000  ...      0.000000   \n",
      "13321    1271.810018      0.000000       0.000000  ...      0.000000   \n",
      "13322    2878.387276   2878.556565       0.000000  ...      0.000000   \n",
      "\n",
      "             TitleV  Wellhead1     Flood_SHFA  Farmland  SurfWatBC  Wellhead2  \\\n",
      "0       2286.888339        0.0       0.000000       0.0        0.0        0.0   \n",
      "1      19056.802159        0.0  119268.637810       0.0        0.0        0.0   \n",
      "2        906.091999        0.0    2650.988149       0.0        0.0        0.0   \n",
      "3       3468.070430        0.0    2245.188236       0.0        0.0        0.0   \n",
      "4          0.000000        0.0       0.000000       0.0        0.0        0.0   \n",
      "...             ...        ...            ...       ...        ...        ...   \n",
      "13318      0.000000        0.0       0.000000       0.0        0.0        0.0   \n",
      "13319      0.000000        0.0       0.000000       0.0        0.0        0.0   \n",
      "13320      0.000000        0.0       0.000000       0.0        0.0        0.0   \n",
      "13321      0.000000        0.0       0.000000       0.0        0.0        0.0   \n",
      "13322      0.000000        0.0       0.000000       0.0        0.0        0.0   \n",
      "\n",
      "       IntWellhea  Habitat                                           geometry  \n",
      "0             0.0      0.0  POLYGON ((219693.364 900605.105, 219632.899 90...  \n",
      "1             0.0      0.0  POLYGON ((220199.657 900534.011, 220212.276 90...  \n",
      "2             0.0      0.0  POLYGON ((220183.593 900647.010, 220142.145 90...  \n",
      "3             0.0      0.0  POLYGON ((220232.880 900672.543, 220232.576 90...  \n",
      "4             0.0      0.0  POLYGON ((220137.309 900682.421, 220131.801 90...  \n",
      "...           ...      ...                                                ...  \n",
      "13318         0.0      0.0  POLYGON ((220826.270 905548.016, 220835.319 90...  \n",
      "13319         0.0      0.0  POLYGON ((220523.773 905516.752, 220493.856 90...  \n",
      "13320         0.0      0.0  POLYGON ((222910.104 905513.530, 222923.833 90...  \n",
      "13321         0.0      0.0  POLYGON ((221389.649 905549.201, 221378.666 90...  \n",
      "13322         0.0      0.0  POLYGON ((221302.970 905543.289, 221291.083 90...  \n",
      "\n",
      "[13323 rows x 25 columns]\n",
      "      Shape_Leng    Shape_Area  \\\n",
      "0  755474.208676  3.831445e+08   \n",
      "\n",
      "                                            geometry  \n",
      "0  MULTIPOLYGON (((230096.267 878540.938, 230094....  \n",
      "    NAME  CODE    SHAPE_LENG     ORDINANCE EDITOR CHANGE_DAT        SOURCE  \\\n",
      "0    RA2   0.0  10403.755604           NaN    NaN        NaN           NaN   \n",
      "1     LC   0.0   9788.055753           NaN    NaN        NaN           NaN   \n",
      "2    RA1   0.0  26764.481489           NaN    NaN        NaN           NaN   \n",
      "3    RA2   0.0   1923.268768           NaN    NaN        NaN           NaN   \n",
      "4    RA2   0.0   1492.657537           NaN    NaN        NaN           NaN   \n",
      "..   ...   ...           ...           ...    ...        ...           ...   \n",
      "165  RA2   0.0  11017.020092           NaN    NaN        NaN           NaN   \n",
      "166   CR   0.0  11017.020092  Order# 31397    NaN        NaN           NaN   \n",
      "167   CR   0.0   8536.828214  Order# 33355    NaN        NaN           NaN   \n",
      "168   CR   0.0  49790.370990  Order# 31996    NaN        NaN           NaN   \n",
      "169   RB   0.0  25209.863668  Order# 33092    NaN        NaN  City Council   \n",
      "\n",
      "                PLAN_NAME    SHAPE_STAr    SHAPE_STLe    SHAPE_ST_1  \\\n",
      "0                     NaN  4.947813e+06  10665.871058  4.947813e+06   \n",
      "1                     NaN  3.920774e+06   9988.000732  3.920774e+06   \n",
      "2                     NaN  2.775205e+07  26837.486309  2.775205e+07   \n",
      "3                     NaN  1.400867e+05   1923.723533  1.400867e+05   \n",
      "4                     NaN  3.078289e+04   1492.654782  3.078289e+04   \n",
      "..                    ...           ...           ...           ...   \n",
      "165                   NaN  8.578988e+05   6037.259671  8.578988e+05   \n",
      "166                   NaN  1.413479e+05   1574.832766  1.413479e+05   \n",
      "167                   NaN  1.230570e+06   5716.568185  1.230570e+06   \n",
      "168                   NaN  1.132496e+06   5694.585519  1.132496e+06   \n",
      "169  Plan No. 620 of 2009  7.614203e+04   1406.748021  7.614203e+04   \n",
      "\n",
      "       SHAPE_ST_2                                           geometry  \n",
      "0    10665.871058  POLYGON ((721768.987 2978536.268, 721531.026 2...  \n",
      "1     9988.000731  POLYGON ((720906.326 2976768.894, 720915.741 2...  \n",
      "2    26837.486309  POLYGON ((721454.447 2974595.520, 721412.905 2...  \n",
      "3     1923.723533  POLYGON ((720906.326 2976768.894, 721419.686 2...  \n",
      "4     1492.654783  POLYGON ((728482.999 2975562.250, 728502.063 2...  \n",
      "..            ...                                                ...  \n",
      "165   6037.259671  POLYGON ((729197.438 2974837.749, 729129.875 2...  \n",
      "166   1574.832766  POLYGON ((728904.122 2973757.979, 728904.032 2...  \n",
      "167   5716.568185  POLYGON ((729158.375 2975327.500, 730516.500 2...  \n",
      "168   5694.585519  POLYGON ((724717.526 2970305.415, 724738.312 2...  \n",
      "169   1406.748021  POLYGON ((734024.990 2960333.242, 734020.213 2...  \n",
      "\n",
      "[170 rows x 13 columns]\n"
     ]
    }
   ],
   "source": [
    "\n",
    "with fs.open(\"data/mbta_communities/308_WALTHAM_detail.zip\") as f:\n",
    "    content = BytesIO(f.read())\n",
    "    zip = ZipFile(content)\n",
    "    zip.extractall(\"../../data/mbta_communities/308_WALTHAM_detail\")\n",
    "    property_shapefiles_df = geo_pd.read_file(\"../../data/mbta_communities/308_WALTHAM_detail/308_WALTHAM_detail.shp\")\n",
    "    \n",
    "print(property_shapefiles_df)\n",
    "\n",
    "with fs.open(\"data/mbta_communities/Transit_Station_Areas_Half_Mile_Radius.zip\") as f:\n",
    "    content = BytesIO(f.read())\n",
    "    zip = ZipFile(content)\n",
    "    zip.extractall(\"../../data/mbta_communities/Transit_Station_Areas_Half_Mile_Radius\")\n",
    "    half_mile_radius_df = geo_pd.read_file(\"../../data/mbta_communities/Transit_Station_Areas_Half_Mile_Radius/Transit_Station_Areas_Half_Mile_Radius.shp\")\n",
    "    \n",
    "print(half_mile_radius_df)\n",
    "\n",
    "with fs.open(\"data/gis/WalthamZoning.zip\") as f:\n",
    "    content = BytesIO(f.read())\n",
    "    zip = ZipFile(content)\n",
    "    zip.extractall(\"../../data/gis\")\n",
    "    zoning_df = geo_pd.read_file(\"../../data/gis/WalthamZoning/WalthamZoning.shp\")\n",
    "\n",
    "print(zoning_df)\n"
   ]
  },
  {
   "cell_type": "code",
   "execution_count": 44,
   "metadata": {},
   "outputs": [],
   "source": [
    "# set the waltham zoning crs to match the MassGIS one\n",
    "zoning_df.to_crs(property_shapefiles_df.crs, inplace=True)"
   ]
  },
  {
   "cell_type": "code",
   "execution_count": 45,
   "metadata": {},
   "outputs": [],
   "source": [
    "# assign existing parcels to zones\n",
    "property_shapefiles_df[\"parcel_geometry\"] = property_shapefiles_df[\"geometry\"]\n",
    "property_shapefiles_df[\"geometry\"] = property_shapefiles_df.centroid\n",
    "properties_df = property_shapefiles_df.sjoin(zoning_df, how=\"left\", predicate=\"within\")\n",
    "properties_df.drop(axis=\"columns\", labels=[\"index_right\", \"geometry\"], inplace=True)\n",
    "\n",
    "properties_df.rename(columns={\"NAME\": \"ZONE\", \"parcel_geometry\": \"geometry\"}, inplace=True)"
   ]
  },
  {
   "cell_type": "code",
   "execution_count": 47,
   "metadata": {},
   "outputs": [
    {
     "data": {
      "text/plain": [
       "'CR'"
      ]
     },
     "execution_count": 47,
     "metadata": {},
     "output_type": "execute_result"
    }
   ],
   "source": [
    "properties_df.at[101, \"ZONE\"]"
   ]
  },
  {
   "cell_type": "code",
   "execution_count": null,
   "metadata": {},
   "outputs": [],
   "source": [
    "# parcels within the 0.5 mi radius of stations\n",
    "#properties_df[\"in_range\"] = properties_df[\"geometry\"].within(half_mile_radius_df['geometry'])"
   ]
  },
  {
   "cell_type": "code",
   "execution_count": 14,
   "metadata": {},
   "outputs": [
    {
     "data": {
      "text/plain": [
       "RangeIndex(start=0, stop=170, step=1)"
      ]
     },
     "execution_count": 14,
     "metadata": {},
     "output_type": "execute_result"
    }
   ],
   "source": [
    "zoning_df.index"
   ]
  },
  {
   "cell_type": "code",
   "execution_count": 12,
   "metadata": {},
   "outputs": [
    {
     "data": {
      "text/plain": [
       "Index(['NAME', 'CODE', 'SHAPE_LENG', 'ORDINANCE', 'EDITOR', 'CHANGE_DAT',\n",
       "       'SOURCE', 'PLAN_NAME', 'SHAPE_STAr', 'SHAPE_STLe', 'SHAPE_ST_1',\n",
       "       'SHAPE_ST_2', 'geometry', 'index_right', 'Shape_Leng', 'Shape_Area'],\n",
       "      dtype='object')"
      ]
     },
     "execution_count": 12,
     "metadata": {},
     "output_type": "execute_result"
    }
   ],
   "source": [
    "#geo_pd.tools.sjoin(zoning_df, half_mile_radius_df, how=\"left\")\n",
    "\n",
    "zoning_df.sjoin(half_mile_radius_df, how=\"left\").columns"
   ]
  },
  {
   "cell_type": "code",
   "execution_count": 9,
   "metadata": {},
   "outputs": [
    {
     "data": {
      "text/plain": [
       "Index(['LOC_ID', 'Address', 'Owner', 'UseCodes', 'UseDesc', 'TRANSIT', 'ACRES',\n",
       "       'SQFT', 'PublicInst', 'NonPubExc', 'Tot_Exclud', 'Tot_Sensit', 'ROW',\n",
       "       'OpenSpace', 'Hydrology', 'Wetlands', 'TitleV', 'Wellhead1',\n",
       "       'Flood_SHFA', 'Farmland', 'SurfWatBC', 'Wellhead2', 'IntWellhea',\n",
       "       'Habitat', 'geometry'],\n",
       "      dtype='object')"
      ]
     },
     "execution_count": 9,
     "metadata": {},
     "output_type": "execute_result"
    }
   ],
   "source": [
    "property_shapefiles_df.columns"
   ]
  },
  {
   "cell_type": "code",
   "execution_count": null,
   "metadata": {},
   "outputs": [],
   "source": []
  }
 ],
 "metadata": {
  "kernelspec": {
   "display_name": ".venv",
   "language": "python",
   "name": "python3"
  },
  "language_info": {
   "codemirror_mode": {
    "name": "ipython",
    "version": 3
   },
   "file_extension": ".py",
   "mimetype": "text/x-python",
   "name": "python",
   "nbconvert_exporter": "python",
   "pygments_lexer": "ipython3",
   "version": "3.11.2"
  },
  "orig_nbformat": 4,
  "vscode": {
   "interpreter": {
    "hash": "1755a6182d72ab06ca0344c085c035088f067d029332a5181785e944af4c88ea"
   }
  }
 },
 "nbformat": 4,
 "nbformat_minor": 2
}
