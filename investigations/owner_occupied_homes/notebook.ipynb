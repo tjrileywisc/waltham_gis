{
 "cells": [
  {
   "attachments": {},
   "cell_type": "markdown",
   "metadata": {},
   "source": [
    "# Likely renters vs. likely homeowners\n",
    "\n",
    "This notebook uses a simple heuristic to determine whether or not a given property has renters or homeowners - just read the M308Assess table and try to match OWN_ADDR and SITE_ADDR.\n",
    "\n",
    "Since these are freeform text we can't rely on exact matches (for example one entry has 92 AMHERST AVE vs. 92 AMHERST AVENUE) so we need to allow for a fuzzy match."
   ]
  },
  {
   "cell_type": "code",
   "execution_count": 20,
   "metadata": {},
   "outputs": [],
   "source": [
    "from dbfread import DBF\n",
    "import pandas as pd\n",
    "from dvc.api import DVCFileSystem\n",
    "from io import BytesIO\n",
    "from zipfile import ZipFile\n",
    "\n",
    "from sklearn.feature_extraction.text import CountVectorizer\n",
    "from sklearn.metrics import DistanceMetric\n",
    "\n",
    "fs = DVCFileSystem(\"https://github.com/tjrileywisc/waltham_etl\")"
   ]
  },
  {
   "cell_type": "code",
   "execution_count": 21,
   "metadata": {},
   "outputs": [],
   "source": [
    "with fs.open(\"data/gis/L3_SHP_M308_WALTHAM.zip\") as f:\n",
    "    content = BytesIO(f.read())\n",
    "    zipfile = ZipFile(content)\n",
    "    zipfile.extractall(\"../../data/gis\")\n",
    "    \n",
    "    df = pd.DataFrame(DBF(f\"../../data/gis/L3_SHP_M308_WALTHAM/M308Assess_CY22_FY23.dbf\", load=True))"
   ]
  },
  {
   "cell_type": "code",
   "execution_count": 22,
   "metadata": {},
   "outputs": [],
   "source": [
    "# assessments_table = DBF(\"data/gis/L3_SHP_M308_WALTHAM/M308Assess_CY22_FY23.dbf\", load=True)\n",
    "# df = pd.DataFrame([dict(r) for r in assessments_table.records])"
   ]
  },
  {
   "cell_type": "code",
   "execution_count": 23,
   "metadata": {},
   "outputs": [
    {
     "data": {
      "text/html": [
       "<div>\n",
       "<style scoped>\n",
       "    .dataframe tbody tr th:only-of-type {\n",
       "        vertical-align: middle;\n",
       "    }\n",
       "\n",
       "    .dataframe tbody tr th {\n",
       "        vertical-align: top;\n",
       "    }\n",
       "\n",
       "    .dataframe thead th {\n",
       "        text-align: right;\n",
       "    }\n",
       "</style>\n",
       "<table border=\"1\" class=\"dataframe\">\n",
       "  <thead>\n",
       "    <tr style=\"text-align: right;\">\n",
       "      <th></th>\n",
       "      <th>PROP_ID</th>\n",
       "      <th>LOC_ID</th>\n",
       "      <th>BLDG_VAL</th>\n",
       "      <th>LAND_VAL</th>\n",
       "      <th>OTHER_VAL</th>\n",
       "      <th>TOTAL_VAL</th>\n",
       "      <th>FY</th>\n",
       "      <th>LOT_SIZE</th>\n",
       "      <th>LS_DATE</th>\n",
       "      <th>LS_PRICE</th>\n",
       "      <th>...</th>\n",
       "      <th>YEAR_BUILT</th>\n",
       "      <th>BLD_AREA</th>\n",
       "      <th>UNITS</th>\n",
       "      <th>RES_AREA</th>\n",
       "      <th>STYLE</th>\n",
       "      <th>STORIES</th>\n",
       "      <th>NUM_ROOMS</th>\n",
       "      <th>LOT_UNITS</th>\n",
       "      <th>CAMA_ID</th>\n",
       "      <th>TOWN_ID</th>\n",
       "    </tr>\n",
       "  </thead>\n",
       "  <tbody>\n",
       "    <tr>\n",
       "      <th>0</th>\n",
       "      <td>R063 002 0017</td>\n",
       "      <td>F_734012_2963106</td>\n",
       "      <td>257400</td>\n",
       "      <td>392000</td>\n",
       "      <td>7300</td>\n",
       "      <td>656700</td>\n",
       "      <td>2023</td>\n",
       "      <td>0.11</td>\n",
       "      <td>20080930</td>\n",
       "      <td>385000</td>\n",
       "      <td>...</td>\n",
       "      <td>1930</td>\n",
       "      <td>1352</td>\n",
       "      <td>1</td>\n",
       "      <td>1352</td>\n",
       "      <td>COLONIAL</td>\n",
       "      <td>2</td>\n",
       "      <td>6</td>\n",
       "      <td>A</td>\n",
       "      <td>28</td>\n",
       "      <td>308</td>\n",
       "    </tr>\n",
       "    <tr>\n",
       "      <th>1</th>\n",
       "      <td>R015 004 0001</td>\n",
       "      <td>F_730830_2973583</td>\n",
       "      <td>236500</td>\n",
       "      <td>388900</td>\n",
       "      <td>0</td>\n",
       "      <td>625400</td>\n",
       "      <td>2023</td>\n",
       "      <td>0.22</td>\n",
       "      <td>20080422</td>\n",
       "      <td>1</td>\n",
       "      <td>...</td>\n",
       "      <td>1962</td>\n",
       "      <td>1931</td>\n",
       "      <td>1</td>\n",
       "      <td>1931</td>\n",
       "      <td>RANCH</td>\n",
       "      <td>1</td>\n",
       "      <td>5</td>\n",
       "      <td>A</td>\n",
       "      <td>46</td>\n",
       "      <td>308</td>\n",
       "    </tr>\n",
       "    <tr>\n",
       "      <th>2</th>\n",
       "      <td>R015 003 0017</td>\n",
       "      <td>F_730659_2973534</td>\n",
       "      <td>171600</td>\n",
       "      <td>382200</td>\n",
       "      <td>5200</td>\n",
       "      <td>559000</td>\n",
       "      <td>2023</td>\n",
       "      <td>0.21</td>\n",
       "      <td>19770301</td>\n",
       "      <td>39500</td>\n",
       "      <td>...</td>\n",
       "      <td>1952</td>\n",
       "      <td>1756</td>\n",
       "      <td>1</td>\n",
       "      <td>1756</td>\n",
       "      <td>CONVENTIONAL</td>\n",
       "      <td>2</td>\n",
       "      <td>7</td>\n",
       "      <td>A</td>\n",
       "      <td>55</td>\n",
       "      <td>308</td>\n",
       "    </tr>\n",
       "    <tr>\n",
       "      <th>3</th>\n",
       "      <td>R015 005 0001</td>\n",
       "      <td>F_730718_2973342</td>\n",
       "      <td>400200</td>\n",
       "      <td>391900</td>\n",
       "      <td>6100</td>\n",
       "      <td>798200</td>\n",
       "      <td>2023</td>\n",
       "      <td>0.23</td>\n",
       "      <td>20061205</td>\n",
       "      <td>1</td>\n",
       "      <td>...</td>\n",
       "      <td>1952</td>\n",
       "      <td>2922</td>\n",
       "      <td>1</td>\n",
       "      <td>2922</td>\n",
       "      <td>COLONIAL</td>\n",
       "      <td>2</td>\n",
       "      <td>6</td>\n",
       "      <td>A</td>\n",
       "      <td>64</td>\n",
       "      <td>308</td>\n",
       "    </tr>\n",
       "    <tr>\n",
       "      <th>4</th>\n",
       "      <td>R015 006 0006</td>\n",
       "      <td>F_730548_2973294</td>\n",
       "      <td>369300</td>\n",
       "      <td>382600</td>\n",
       "      <td>2700</td>\n",
       "      <td>754600</td>\n",
       "      <td>2023</td>\n",
       "      <td>0.21</td>\n",
       "      <td>20050315</td>\n",
       "      <td>1</td>\n",
       "      <td>...</td>\n",
       "      <td>1952</td>\n",
       "      <td>1792</td>\n",
       "      <td>1</td>\n",
       "      <td>1792</td>\n",
       "      <td>COLONIAL</td>\n",
       "      <td>2</td>\n",
       "      <td>8</td>\n",
       "      <td>A</td>\n",
       "      <td>73</td>\n",
       "      <td>308</td>\n",
       "    </tr>\n",
       "  </tbody>\n",
       "</table>\n",
       "<p>5 rows × 37 columns</p>\n",
       "</div>"
      ],
      "text/plain": [
       "         PROP_ID            LOC_ID  BLDG_VAL  LAND_VAL  OTHER_VAL  TOTAL_VAL  \\\n",
       "0  R063 002 0017  F_734012_2963106    257400    392000       7300     656700   \n",
       "1  R015 004 0001  F_730830_2973583    236500    388900          0     625400   \n",
       "2  R015 003 0017  F_730659_2973534    171600    382200       5200     559000   \n",
       "3  R015 005 0001  F_730718_2973342    400200    391900       6100     798200   \n",
       "4  R015 006 0006  F_730548_2973294    369300    382600       2700     754600   \n",
       "\n",
       "     FY  LOT_SIZE   LS_DATE  LS_PRICE  ... YEAR_BUILT BLD_AREA UNITS RES_AREA  \\\n",
       "0  2023      0.11  20080930    385000  ...       1930     1352     1     1352   \n",
       "1  2023      0.22  20080422         1  ...       1962     1931     1     1931   \n",
       "2  2023      0.21  19770301     39500  ...       1952     1756     1     1756   \n",
       "3  2023      0.23  20061205         1  ...       1952     2922     1     2922   \n",
       "4  2023      0.21  20050315         1  ...       1952     1792     1     1792   \n",
       "\n",
       "          STYLE STORIES NUM_ROOMS LOT_UNITS CAMA_ID TOWN_ID  \n",
       "0      COLONIAL       2         6         A      28     308  \n",
       "1         RANCH       1         5         A      46     308  \n",
       "2  CONVENTIONAL       2         7         A      55     308  \n",
       "3      COLONIAL       2         6         A      64     308  \n",
       "4      COLONIAL       2         8         A      73     308  \n",
       "\n",
       "[5 rows x 37 columns]"
      ]
     },
     "execution_count": 23,
     "metadata": {},
     "output_type": "execute_result"
    }
   ],
   "source": [
    "df.head()"
   ]
  },
  {
   "attachments": {},
   "cell_type": "markdown",
   "metadata": {},
   "source": [
    "## The process\n",
    "\n",
    "We'll compare the site address and the owner address. If they're close, we'll assume the owner lives onsite.\n",
    "\n",
    "The comparison itself is just a tokenization of addresses into ngrams of sizes 1 to 3 chars, and the features themselves are counts of each token present in each address.\n",
    "Then it's just the euclidean distance between the site and owner addresses and a guess of what value should be set as the threshold for when they likely are too dissimilar.\n",
    "\n",
    "The ngram clusters don't perfectly encode positioning so there's an outside chance we have two streets with the same groups of 1 to 3 letters in different orders, but it is probably not very common."
   ]
  },
  {
   "cell_type": "code",
   "execution_count": 31,
   "metadata": {},
   "outputs": [
    {
     "data": {
      "text/html": [
       "<style>#sk-container-id-3 {color: black;background-color: white;}#sk-container-id-3 pre{padding: 0;}#sk-container-id-3 div.sk-toggleable {background-color: white;}#sk-container-id-3 label.sk-toggleable__label {cursor: pointer;display: block;width: 100%;margin-bottom: 0;padding: 0.3em;box-sizing: border-box;text-align: center;}#sk-container-id-3 label.sk-toggleable__label-arrow:before {content: \"▸\";float: left;margin-right: 0.25em;color: #696969;}#sk-container-id-3 label.sk-toggleable__label-arrow:hover:before {color: black;}#sk-container-id-3 div.sk-estimator:hover label.sk-toggleable__label-arrow:before {color: black;}#sk-container-id-3 div.sk-toggleable__content {max-height: 0;max-width: 0;overflow: hidden;text-align: left;background-color: #f0f8ff;}#sk-container-id-3 div.sk-toggleable__content pre {margin: 0.2em;color: black;border-radius: 0.25em;background-color: #f0f8ff;}#sk-container-id-3 input.sk-toggleable__control:checked~div.sk-toggleable__content {max-height: 200px;max-width: 100%;overflow: auto;}#sk-container-id-3 input.sk-toggleable__control:checked~label.sk-toggleable__label-arrow:before {content: \"▾\";}#sk-container-id-3 div.sk-estimator input.sk-toggleable__control:checked~label.sk-toggleable__label {background-color: #d4ebff;}#sk-container-id-3 div.sk-label input.sk-toggleable__control:checked~label.sk-toggleable__label {background-color: #d4ebff;}#sk-container-id-3 input.sk-hidden--visually {border: 0;clip: rect(1px 1px 1px 1px);clip: rect(1px, 1px, 1px, 1px);height: 1px;margin: -1px;overflow: hidden;padding: 0;position: absolute;width: 1px;}#sk-container-id-3 div.sk-estimator {font-family: monospace;background-color: #f0f8ff;border: 1px dotted black;border-radius: 0.25em;box-sizing: border-box;margin-bottom: 0.5em;}#sk-container-id-3 div.sk-estimator:hover {background-color: #d4ebff;}#sk-container-id-3 div.sk-parallel-item::after {content: \"\";width: 100%;border-bottom: 1px solid gray;flex-grow: 1;}#sk-container-id-3 div.sk-label:hover label.sk-toggleable__label {background-color: #d4ebff;}#sk-container-id-3 div.sk-serial::before {content: \"\";position: absolute;border-left: 1px solid gray;box-sizing: border-box;top: 0;bottom: 0;left: 50%;z-index: 0;}#sk-container-id-3 div.sk-serial {display: flex;flex-direction: column;align-items: center;background-color: white;padding-right: 0.2em;padding-left: 0.2em;position: relative;}#sk-container-id-3 div.sk-item {position: relative;z-index: 1;}#sk-container-id-3 div.sk-parallel {display: flex;align-items: stretch;justify-content: center;background-color: white;position: relative;}#sk-container-id-3 div.sk-item::before, #sk-container-id-3 div.sk-parallel-item::before {content: \"\";position: absolute;border-left: 1px solid gray;box-sizing: border-box;top: 0;bottom: 0;left: 50%;z-index: -1;}#sk-container-id-3 div.sk-parallel-item {display: flex;flex-direction: column;z-index: 1;position: relative;background-color: white;}#sk-container-id-3 div.sk-parallel-item:first-child::after {align-self: flex-end;width: 50%;}#sk-container-id-3 div.sk-parallel-item:last-child::after {align-self: flex-start;width: 50%;}#sk-container-id-3 div.sk-parallel-item:only-child::after {width: 0;}#sk-container-id-3 div.sk-dashed-wrapped {border: 1px dashed gray;margin: 0 0.4em 0.5em 0.4em;box-sizing: border-box;padding-bottom: 0.4em;background-color: white;}#sk-container-id-3 div.sk-label label {font-family: monospace;font-weight: bold;display: inline-block;line-height: 1.2em;}#sk-container-id-3 div.sk-label-container {text-align: center;}#sk-container-id-3 div.sk-container {/* jupyter's `normalize.less` sets `[hidden] { display: none; }` but bootstrap.min.css set `[hidden] { display: none !important; }` so we also need the `!important` here to be able to override the default hidden behavior on the sphinx rendered scikit-learn.org. See: https://github.com/scikit-learn/scikit-learn/issues/21755 */display: inline-block !important;position: relative;}#sk-container-id-3 div.sk-text-repr-fallback {display: none;}</style><div id=\"sk-container-id-3\" class=\"sk-top-container\"><div class=\"sk-text-repr-fallback\"><pre>CountVectorizer(analyzer=&#x27;char&#x27;, ngram_range=(1, 3))</pre><b>In a Jupyter environment, please rerun this cell to show the HTML representation or trust the notebook. <br />On GitHub, the HTML representation is unable to render, please try loading this page with nbviewer.org.</b></div><div class=\"sk-container\" hidden><div class=\"sk-item\"><div class=\"sk-estimator sk-toggleable\"><input class=\"sk-toggleable__control sk-hidden--visually\" id=\"sk-estimator-id-3\" type=\"checkbox\" checked><label for=\"sk-estimator-id-3\" class=\"sk-toggleable__label sk-toggleable__label-arrow\">CountVectorizer</label><div class=\"sk-toggleable__content\"><pre>CountVectorizer(analyzer=&#x27;char&#x27;, ngram_range=(1, 3))</pre></div></div></div></div></div>"
      ],
      "text/plain": [
       "CountVectorizer(analyzer='char', ngram_range=(1, 3))"
      ]
     },
     "execution_count": 31,
     "metadata": {},
     "output_type": "execute_result"
    }
   ],
   "source": [
    "# get strings\n",
    "addrs = df[\"SITE_ADDR\"].values + df[\"OWN_ADDR\"].values\n",
    "\n",
    "# vectorize each\n",
    "vectorizer = CountVectorizer(analyzer=\"char\", ngram_range=(1, 3))\n",
    "\n",
    "vectorizer.fit(addrs)"
   ]
  },
  {
   "cell_type": "code",
   "execution_count": 32,
   "metadata": {},
   "outputs": [],
   "source": [
    "dist = DistanceMetric.get_metric(\"euclidean\")\n",
    "\n",
    "def get_dist(a, b):\n",
    "    \n",
    "    # vectorize each\n",
    "    features = vectorizer.transform([a, b])\n",
    "    \n",
    "    # measure the distance\n",
    "    distances = dist.pairwise(features)\n",
    "    \n",
    "    return distances[0, 1]"
   ]
  },
  {
   "cell_type": "code",
   "execution_count": 33,
   "metadata": {},
   "outputs": [],
   "source": [
    "dist = DistanceMetric.get_metric(\"euclidean\")"
   ]
  },
  {
   "cell_type": "code",
   "execution_count": 34,
   "metadata": {},
   "outputs": [],
   "source": [
    "df['dist'] = df.apply(func=lambda row: get_dist(row.SITE_ADDR, row.OWN_ADDR), axis='columns')"
   ]
  },
  {
   "cell_type": "code",
   "execution_count": 35,
   "metadata": {},
   "outputs": [
    {
     "name": "stdout",
     "output_type": "stream",
     "text": [
      "            dist                   SITE_ADDR  \\\n",
      "918     0.000000              27  BERKLEY ST   \n",
      "1063    0.000000              5  BOWDOIN AVE   \n",
      "3517    0.000000              169  FELTON ST   \n",
      "4765    0.000000            52  HIAWATHA AVE   \n",
      "10034   0.000000            1122  TRAPELO RD   \n",
      "...          ...                         ...   \n",
      "4704   12.124356              60  HICKORY DR   \n",
      "12521  12.124356  1105 -B09 U06 LEXINGTON ST   \n",
      "3305   12.288206          28  FARNSWORTH AVE   \n",
      "814    12.409674           335  BEAR HILL RD   \n",
      "5834   12.806248           976  LEXINGTON ST   \n",
      "\n",
      "                                 OWN_ADDR  \n",
      "918                         27 BERKLEY ST  \n",
      "1063                        5 BOWDOIN AVE  \n",
      "3517                        169 FELTON ST  \n",
      "4765                      52 HIAWATHA AVE  \n",
      "10034                     1122 TRAPELO RD  \n",
      "...                                   ...  \n",
      "4704   TEN POST OFFICE SQUARE, 14TH FLOOR  \n",
      "12521                     73 BARBARA ROAD  \n",
      "3305         111 LOCUST STREET, SUITE 100  \n",
      "814    TEN POST OFFICE SQUARE, 14TH FLOOR  \n",
      "5834     125 HIGH ST. HIGH ST TOWER 27 FL  \n",
      "\n",
      "[16514 rows x 3 columns]\n"
     ]
    }
   ],
   "source": [
    "print(df[['dist', \"SITE_ADDR\", \"OWN_ADDR\"]].sort_values(by='dist'))"
   ]
  },
  {
   "attachments": {},
   "cell_type": "markdown",
   "metadata": {},
   "source": [
    "## Setting a threshold for similarity\n",
    "\n",
    "Eyeballing the csv output below tells me that at the owner and site addresses start to look dissimilar at about a distance of 6.4, so we'll set anything lower as 'OWNER_OCCUPIED' as true."
   ]
  },
  {
   "cell_type": "code",
   "execution_count": 38,
   "metadata": {},
   "outputs": [],
   "source": [
    "columns = [\n",
    "    \"PROP_ID\",\n",
    "    \"LOC_ID\",\n",
    "    \"SITE_ADDR\",\n",
    "    \"OWN_ADDR\",\n",
    "    \"dist\",\n",
    "    \"OWNER_OCCUPIED\"\n",
    "]\n",
    "\n",
    "df['OWNER_OCCUPIED'] = df['dist'].map(lambda x: True if x <= 6.4 else False)\n",
    "\n",
    "df[columns].sort_values(by='dist').to_csv(\"likely_homeowners.csv\", index=False)"
   ]
  },
  {
   "cell_type": "code",
   "execution_count": null,
   "metadata": {},
   "outputs": [],
   "source": []
  }
 ],
 "metadata": {
  "kernelspec": {
   "display_name": "Python 3",
   "language": "python",
   "name": "python3"
  },
  "language_info": {
   "codemirror_mode": {
    "name": "ipython",
    "version": 3
   },
   "file_extension": ".py",
   "mimetype": "text/x-python",
   "name": "python",
   "nbconvert_exporter": "python",
   "pygments_lexer": "ipython3",
   "version": "3.11.2"
  },
  "orig_nbformat": 4
 },
 "nbformat": 4,
 "nbformat_minor": 2
}
