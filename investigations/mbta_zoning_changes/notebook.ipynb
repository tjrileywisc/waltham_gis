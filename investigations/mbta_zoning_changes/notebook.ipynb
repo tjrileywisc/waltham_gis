{
 "cells": [
  {
   "attachments": {},
   "cell_type": "markdown",
   "metadata": {},
   "source": [
    "# Required MBTA zoning changes\n",
    "\n",
    "Like most communities in MA with a housing shortage, Waltham has to change our zoning to allow a certain amount of density by-right in order\n",
    "to comply with the MBTA Communities law.\n",
    "\n",
    "This [page](https://www.mass.gov/info-details/compliance-model-components) has an Excel workbook that helps communities to pinpoint which restrictions\n",
    "they might have in place that prevent MFH housing from being constructed around transit areas, as required by the law.\n",
    "\n",
    "After the community is selected, a few housing required parameters will auto-populate (pre-calculated developable land amounts, required housing units etc.)\n",
    "and the person filling out the workbook needs to define one or more districts that will be re-zoned to fulfill the requirement. The other sheets of the Excel\n",
    "workbook allow entering restrictions like setbacks or floor area ratios and will flag requirements that need to be relaxed in order for the calculation to work."
   ]
  },
  {
   "cell_type": "code",
   "execution_count": 1,
   "metadata": {},
   "outputs": [],
   "source": [
    "import pandas as pd"
   ]
  },
  {
   "cell_type": "code",
   "execution_count": 13,
   "metadata": {},
   "outputs": [],
   "source": [
    "requirements = {\n",
    "    \"Community\" : \"Waltham\",\n",
    "    \"Community category\" : \"Commuter Rail\",\n",
    "    \"2020 Housing Units\" : 26545,\n",
    "    \"Minimum multi-family unit capacity\": 3982,\n",
    "    \"Minimum land area\" : 50,\n",
    "    \"Developable station area\" : 470,\n",
    "    \"% of district to be located in station area\" : 50\n",
    "}"
   ]
  },
  {
   "attachments": {},
   "cell_type": "markdown",
   "metadata": {},
   "source": [
    "# Checklist parameters tab\n",
    "\n",
    "Here the user enters existing restrictions on height, lot sizes, etc."
   ]
  },
  {
   "cell_type": "code",
   "execution_count": null,
   "metadata": {},
   "outputs": [],
   "source": [
    "districts = [\n",
    "    {\"name\": \"Carter\"},\n",
    "    {\"name\": \"Brandeis\"}\n",
    "]"
   ]
  }
 ],
 "metadata": {
  "kernelspec": {
   "display_name": ".venv",
   "language": "python",
   "name": "python3"
  },
  "language_info": {
   "codemirror_mode": {
    "name": "ipython",
    "version": 3
   },
   "file_extension": ".py",
   "mimetype": "text/x-python",
   "name": "python",
   "nbconvert_exporter": "python",
   "pygments_lexer": "ipython3",
   "version": "3.11.2"
  },
  "orig_nbformat": 4
 },
 "nbformat": 4,
 "nbformat_minor": 2
}
