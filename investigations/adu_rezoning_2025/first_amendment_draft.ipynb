{
 "cells": [
  {
   "cell_type": "markdown",
   "metadata": {},
   "source": [
    "# The first amendment draft\n",
    "\n",
    "The city has drawn up an [amendment draft](https://docs.google.com/document/d/1-NbMPJrW4D-XPOCyMTCK1_wvC7rnm6IE) to our current ADU zoning in reponse to the state's required changes for ADUs. As written, it may violate several of the provisions of the new ADU law.\n"
   ]
  },
  {
   "cell_type": "code",
   "execution_count": 1,
   "metadata": {},
   "outputs": [],
   "source": [
    "import pandas as pd\n",
    "import geopandas as geo_pd\n",
    "\n",
    "from data.connect_db import get_db\n",
    "from waltham.constants import SQ_FT_PER_ACRE\n",
    "\n",
    "con = get_db()"
   ]
  },
  {
   "cell_type": "markdown",
   "metadata": {},
   "source": [
    "## The minimum ADU size limitation\n",
    "\n",
    "ADUs have a minimum size of 600 sq ft. This may cause some garage conversions to be unviable."
   ]
  }
 ],
 "metadata": {
  "kernelspec": {
   "display_name": ".venv",
   "language": "python",
   "name": "python3"
  },
  "language_info": {
   "codemirror_mode": {
    "name": "ipython",
    "version": 3
   },
   "file_extension": ".py",
   "mimetype": "text/x-python",
   "name": "python",
   "nbconvert_exporter": "python",
   "pygments_lexer": "ipython3",
   "version": "3.13.1"
  }
 },
 "nbformat": 4,
 "nbformat_minor": 2
}
