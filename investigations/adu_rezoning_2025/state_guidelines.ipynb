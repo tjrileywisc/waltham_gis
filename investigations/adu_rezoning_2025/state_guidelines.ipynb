{
 "cells": [
  {
   "cell_type": "markdown",
   "metadata": {},
   "source": [
    "# EOHLC's 2025 ADU guidelines\n",
    "\n",
    "How much could we build, if Waltham didn't apply any added restrictions?"
   ]
  },
  {
   "cell_type": "markdown",
   "metadata": {},
   "source": []
  }
 ],
 "metadata": {
  "language_info": {
   "name": "python"
  }
 },
 "nbformat": 4,
 "nbformat_minor": 2
}
