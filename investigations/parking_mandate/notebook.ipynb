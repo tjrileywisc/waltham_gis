{
 "cells": [
  {
   "attachments": {},
   "cell_type": "markdown",
   "metadata": {},
   "source": [
    "# Parking mandates\n",
    "\n",
    "## Hypothesis\n",
    "\n",
    "The off-street parking mandate may be requiring more space dedicated to parking than is necessary."
   ]
  },
  {
   "cell_type": "code",
   "execution_count": 1,
   "metadata": {},
   "outputs": [],
   "source": [
    "import dvc.api\n",
    "import pandas as pd"
   ]
  },
  {
   "attachments": {},
   "cell_type": "markdown",
   "metadata": {},
   "source": [
    "## Fetch American Community Survey data for Waltham census tracts"
   ]
  },
  {
   "cell_type": "code",
   "execution_count": 2,
   "metadata": {},
   "outputs": [
    {
     "ename": "FileMissingError",
     "evalue": "Can't find 'data/census/data_profiles_census_df.csv' neither locally nor on remote",
     "output_type": "error",
     "traceback": [
      "\u001b[1;31m---------------------------------------------------------------------------\u001b[0m",
      "\u001b[1;31mKeyError\u001b[0m                                  Traceback (most recent call last)",
      "File \u001b[1;32mc:\\workspace\\waltham_gis\\.venv\\Lib\\site-packages\\dvc_data\\index\\index.py:385\u001b[0m, in \u001b[0;36mBaseDataIndex.info\u001b[1;34m(self, key)\u001b[0m\n\u001b[0;32m    384\u001b[0m \u001b[39mtry\u001b[39;00m:\n\u001b[1;32m--> 385\u001b[0m     entry \u001b[39m=\u001b[39m \u001b[39mself\u001b[39;49m[key]\n\u001b[0;32m    386\u001b[0m \u001b[39mexcept\u001b[39;00m ShortKeyError:\n",
      "File \u001b[1;32mc:\\workspace\\waltham_gis\\.venv\\Lib\\site-packages\\dvc_data\\index\\index.py:438\u001b[0m, in \u001b[0;36mDataIndex.__getitem__\u001b[1;34m(self, key)\u001b[0m\n\u001b[0;32m    436\u001b[0m     \u001b[39mself\u001b[39m\u001b[39m.\u001b[39m_load(dir_key, dir_entry)\n\u001b[1;32m--> 438\u001b[0m \u001b[39mreturn\u001b[39;00m \u001b[39mself\u001b[39;49m\u001b[39m.\u001b[39;49m_trie[key]\n",
      "File \u001b[1;32mc:\\workspace\\waltham_gis\\.venv\\Lib\\site-packages\\sqltrie\\pygtrie.py:41\u001b[0m, in \u001b[0;36mPyGTrie.__getitem__\u001b[1;34m(self, key)\u001b[0m\n\u001b[0;32m     40\u001b[0m \u001b[39mtry\u001b[39;00m:\n\u001b[1;32m---> 41\u001b[0m     \u001b[39mreturn\u001b[39;00m \u001b[39mself\u001b[39;49m\u001b[39m.\u001b[39;49m_trie[key]\n\u001b[0;32m     42\u001b[0m \u001b[39mexcept\u001b[39;00m pygtrie\u001b[39m.\u001b[39mShortKeyError \u001b[39mas\u001b[39;00m exc:\n",
      "File \u001b[1;32mc:\\workspace\\waltham_gis\\.venv\\Lib\\site-packages\\pygtrie.py:937\u001b[0m, in \u001b[0;36mTrie.__getitem__\u001b[1;34m(self, key_or_slice)\u001b[0m\n\u001b[0;32m    936\u001b[0m     \u001b[39mreturn\u001b[39;00m \u001b[39mself\u001b[39m\u001b[39m.\u001b[39mitervalues(key_or_slice\u001b[39m.\u001b[39mstart)\n\u001b[1;32m--> 937\u001b[0m node, _ \u001b[39m=\u001b[39m \u001b[39mself\u001b[39;49m\u001b[39m.\u001b[39;49m_get_node(key_or_slice)\n\u001b[0;32m    938\u001b[0m \u001b[39mif\u001b[39;00m node\u001b[39m.\u001b[39mvalue \u001b[39mis\u001b[39;00m _EMPTY:\n",
      "File \u001b[1;32mc:\\workspace\\waltham_gis\\.venv\\Lib\\site-packages\\pygtrie.py:630\u001b[0m, in \u001b[0;36mTrie._get_node\u001b[1;34m(self, key)\u001b[0m\n\u001b[0;32m    629\u001b[0m \u001b[39mif\u001b[39;00m node \u001b[39mis\u001b[39;00m \u001b[39mNone\u001b[39;00m:\n\u001b[1;32m--> 630\u001b[0m     \u001b[39mraise\u001b[39;00m \u001b[39mKeyError\u001b[39;00m(key)\n\u001b[0;32m    631\u001b[0m trace\u001b[39m.\u001b[39mappend((step, node))\n",
      "\u001b[1;31mKeyError\u001b[0m: ('data', 'census', 'data_profiles_census_df.csv')",
      "\nThe above exception was the direct cause of the following exception:\n",
      "\u001b[1;31mFileNotFoundError\u001b[0m                         Traceback (most recent call last)",
      "File \u001b[1;32mc:\\workspace\\waltham_gis\\.venv\\Lib\\site-packages\\dvc\\repo\\__init__.py:569\u001b[0m, in \u001b[0;36mRepo.open_by_relpath\u001b[1;34m(self, path, remote, mode, encoding)\u001b[0m\n\u001b[0;32m    567\u001b[0m     fs_path \u001b[39m=\u001b[39m remote_odb\u001b[39m.\u001b[39moid_to_path(oid)\n\u001b[1;32m--> 569\u001b[0m \u001b[39mwith\u001b[39;00m fs\u001b[39m.\u001b[39;49mopen(\n\u001b[0;32m    570\u001b[0m     fs_path,\n\u001b[0;32m    571\u001b[0m     mode\u001b[39m=\u001b[39;49mmode,\n\u001b[0;32m    572\u001b[0m     encoding\u001b[39m=\u001b[39;49mencoding,\n\u001b[0;32m    573\u001b[0m ) \u001b[39mas\u001b[39;00m fobj:\n\u001b[0;32m    574\u001b[0m     \u001b[39myield\u001b[39;00m fobj\n",
      "File \u001b[1;32mc:\\workspace\\waltham_gis\\.venv\\Lib\\site-packages\\dvc_objects\\fs\\base.py:194\u001b[0m, in \u001b[0;36mFileSystem.open\u001b[1;34m(self, path, mode, **kwargs)\u001b[0m\n\u001b[0;32m    193\u001b[0m     kwargs\u001b[39m.\u001b[39mpop(\u001b[39m\"\u001b[39m\u001b[39mencoding\u001b[39m\u001b[39m\"\u001b[39m, \u001b[39mNone\u001b[39;00m)\n\u001b[1;32m--> 194\u001b[0m \u001b[39mreturn\u001b[39;00m \u001b[39mself\u001b[39;49m\u001b[39m.\u001b[39;49mfs\u001b[39m.\u001b[39;49mopen(path, mode\u001b[39m=\u001b[39;49mmode, \u001b[39m*\u001b[39;49m\u001b[39m*\u001b[39;49mkwargs)\n",
      "File \u001b[1;32mc:\\workspace\\waltham_gis\\.venv\\Lib\\site-packages\\fsspec\\spec.py:1123\u001b[0m, in \u001b[0;36mAbstractFileSystem.open\u001b[1;34m(self, path, mode, block_size, cache_options, compression, **kwargs)\u001b[0m\n\u001b[0;32m   1117\u001b[0m     text_kwargs \u001b[39m=\u001b[39m {\n\u001b[0;32m   1118\u001b[0m         k: kwargs\u001b[39m.\u001b[39mpop(k)\n\u001b[0;32m   1119\u001b[0m         \u001b[39mfor\u001b[39;00m k \u001b[39min\u001b[39;00m [\u001b[39m\"\u001b[39m\u001b[39mencoding\u001b[39m\u001b[39m\"\u001b[39m, \u001b[39m\"\u001b[39m\u001b[39merrors\u001b[39m\u001b[39m\"\u001b[39m, \u001b[39m\"\u001b[39m\u001b[39mnewline\u001b[39m\u001b[39m\"\u001b[39m]\n\u001b[0;32m   1120\u001b[0m         \u001b[39mif\u001b[39;00m k \u001b[39min\u001b[39;00m kwargs\n\u001b[0;32m   1121\u001b[0m     }\n\u001b[0;32m   1122\u001b[0m     \u001b[39mreturn\u001b[39;00m io\u001b[39m.\u001b[39mTextIOWrapper(\n\u001b[1;32m-> 1123\u001b[0m         \u001b[39mself\u001b[39;49m\u001b[39m.\u001b[39;49mopen(\n\u001b[0;32m   1124\u001b[0m             path,\n\u001b[0;32m   1125\u001b[0m             mode,\n\u001b[0;32m   1126\u001b[0m             block_size\u001b[39m=\u001b[39;49mblock_size,\n\u001b[0;32m   1127\u001b[0m             cache_options\u001b[39m=\u001b[39;49mcache_options,\n\u001b[0;32m   1128\u001b[0m             compression\u001b[39m=\u001b[39;49mcompression,\n\u001b[0;32m   1129\u001b[0m             \u001b[39m*\u001b[39;49m\u001b[39m*\u001b[39;49mkwargs,\n\u001b[0;32m   1130\u001b[0m         ),\n\u001b[0;32m   1131\u001b[0m         \u001b[39m*\u001b[39m\u001b[39m*\u001b[39mtext_kwargs,\n\u001b[0;32m   1132\u001b[0m     )\n\u001b[0;32m   1133\u001b[0m \u001b[39melse\u001b[39;00m:\n",
      "File \u001b[1;32mc:\\workspace\\waltham_gis\\.venv\\Lib\\site-packages\\fsspec\\spec.py:1135\u001b[0m, in \u001b[0;36mAbstractFileSystem.open\u001b[1;34m(self, path, mode, block_size, cache_options, compression, **kwargs)\u001b[0m\n\u001b[0;32m   1134\u001b[0m ac \u001b[39m=\u001b[39m kwargs\u001b[39m.\u001b[39mpop(\u001b[39m\"\u001b[39m\u001b[39mautocommit\u001b[39m\u001b[39m\"\u001b[39m, \u001b[39mnot\u001b[39;00m \u001b[39mself\u001b[39m\u001b[39m.\u001b[39m_intrans)\n\u001b[1;32m-> 1135\u001b[0m f \u001b[39m=\u001b[39m \u001b[39mself\u001b[39;49m\u001b[39m.\u001b[39;49m_open(\n\u001b[0;32m   1136\u001b[0m     path,\n\u001b[0;32m   1137\u001b[0m     mode\u001b[39m=\u001b[39;49mmode,\n\u001b[0;32m   1138\u001b[0m     block_size\u001b[39m=\u001b[39;49mblock_size,\n\u001b[0;32m   1139\u001b[0m     autocommit\u001b[39m=\u001b[39;49mac,\n\u001b[0;32m   1140\u001b[0m     cache_options\u001b[39m=\u001b[39;49mcache_options,\n\u001b[0;32m   1141\u001b[0m     \u001b[39m*\u001b[39;49m\u001b[39m*\u001b[39;49mkwargs,\n\u001b[0;32m   1142\u001b[0m )\n\u001b[0;32m   1143\u001b[0m \u001b[39mif\u001b[39;00m compression \u001b[39mis\u001b[39;00m \u001b[39mnot\u001b[39;00m \u001b[39mNone\u001b[39;00m:\n",
      "File \u001b[1;32mc:\\workspace\\waltham_gis\\.venv\\Lib\\site-packages\\dvc\\fs\\dvc.py:259\u001b[0m, in \u001b[0;36m_DVCFileSystem._open\u001b[1;34m(self, path, mode, **kwargs)\u001b[0m\n\u001b[0;32m    258\u001b[0m dvc_path \u001b[39m=\u001b[39m _get_dvc_path(dvc_fs, subkey)\n\u001b[1;32m--> 259\u001b[0m \u001b[39mreturn\u001b[39;00m dvc_fs\u001b[39m.\u001b[39;49mopen(dvc_path, mode\u001b[39m=\u001b[39;49mmode)\n",
      "File \u001b[1;32mc:\\workspace\\waltham_gis\\.venv\\Lib\\site-packages\\dvc_objects\\fs\\base.py:194\u001b[0m, in \u001b[0;36mFileSystem.open\u001b[1;34m(self, path, mode, **kwargs)\u001b[0m\n\u001b[0;32m    193\u001b[0m     kwargs\u001b[39m.\u001b[39mpop(\u001b[39m\"\u001b[39m\u001b[39mencoding\u001b[39m\u001b[39m\"\u001b[39m, \u001b[39mNone\u001b[39;00m)\n\u001b[1;32m--> 194\u001b[0m \u001b[39mreturn\u001b[39;00m \u001b[39mself\u001b[39;49m\u001b[39m.\u001b[39;49mfs\u001b[39m.\u001b[39;49mopen(path, mode\u001b[39m=\u001b[39;49mmode, \u001b[39m*\u001b[39;49m\u001b[39m*\u001b[39;49mkwargs)\n",
      "File \u001b[1;32mc:\\workspace\\waltham_gis\\.venv\\Lib\\site-packages\\dvc_data\\fs.py:78\u001b[0m, in \u001b[0;36mDataFileSystem.open\u001b[1;34m(self, path, mode, encoding, **kwargs)\u001b[0m\n\u001b[0;32m     75\u001b[0m \u001b[39mdef\u001b[39;00m \u001b[39mopen\u001b[39m(  \u001b[39m# type: ignore\u001b[39;00m\n\u001b[0;32m     76\u001b[0m     \u001b[39mself\u001b[39m, path: \u001b[39mstr\u001b[39m, mode\u001b[39m=\u001b[39m\u001b[39m\"\u001b[39m\u001b[39mr\u001b[39m\u001b[39m\"\u001b[39m, encoding\u001b[39m=\u001b[39m\u001b[39mNone\u001b[39;00m, \u001b[39m*\u001b[39m\u001b[39m*\u001b[39mkwargs\n\u001b[0;32m     77\u001b[0m ):  \u001b[39m# pylint: disable=arguments-renamed, arguments-differ\u001b[39;00m\n\u001b[1;32m---> 78\u001b[0m     fs, fspath \u001b[39m=\u001b[39m \u001b[39mself\u001b[39;49m\u001b[39m.\u001b[39;49m_get_fs_path(path, \u001b[39m*\u001b[39;49m\u001b[39m*\u001b[39;49mkwargs)\n\u001b[0;32m     79\u001b[0m     \u001b[39mreturn\u001b[39;00m fs\u001b[39m.\u001b[39mopen(fspath, mode\u001b[39m=\u001b[39mmode, encoding\u001b[39m=\u001b[39mencoding)\n",
      "File \u001b[1;32mc:\\workspace\\waltham_gis\\.venv\\Lib\\site-packages\\dvc_data\\fs.py:48\u001b[0m, in \u001b[0;36mDataFileSystem._get_fs_path\u001b[1;34m(self, path)\u001b[0m\n\u001b[0;32m     46\u001b[0m \u001b[39mfrom\u001b[39;00m \u001b[39m.\u001b[39;00m\u001b[39mindex\u001b[39;00m \u001b[39mimport\u001b[39;00m StorageKeyError\n\u001b[1;32m---> 48\u001b[0m info \u001b[39m=\u001b[39m \u001b[39mself\u001b[39;49m\u001b[39m.\u001b[39;49minfo(path)\n\u001b[0;32m     49\u001b[0m \u001b[39mif\u001b[39;00m info[\u001b[39m\"\u001b[39m\u001b[39mtype\u001b[39m\u001b[39m\"\u001b[39m] \u001b[39m==\u001b[39m \u001b[39m\"\u001b[39m\u001b[39mdirectory\u001b[39m\u001b[39m\"\u001b[39m:\n",
      "File \u001b[1;32mc:\\workspace\\waltham_gis\\.venv\\Lib\\site-packages\\dvc_data\\fs.py:117\u001b[0m, in \u001b[0;36mDataFileSystem.info\u001b[1;34m(self, path, **kwargs)\u001b[0m\n\u001b[0;32m    116\u001b[0m key \u001b[39m=\u001b[39m \u001b[39mself\u001b[39m\u001b[39m.\u001b[39m_get_key(path)\n\u001b[1;32m--> 117\u001b[0m info \u001b[39m=\u001b[39m \u001b[39mself\u001b[39;49m\u001b[39m.\u001b[39;49mindex\u001b[39m.\u001b[39;49minfo(key)\n\u001b[0;32m    118\u001b[0m info[\u001b[39m\"\u001b[39m\u001b[39mname\u001b[39m\u001b[39m\"\u001b[39m] \u001b[39m=\u001b[39m path\n",
      "File \u001b[1;32mc:\\workspace\\waltham_gis\\.venv\\Lib\\site-packages\\dvc_data\\index\\index.py:389\u001b[0m, in \u001b[0;36mBaseDataIndex.info\u001b[1;34m(self, key)\u001b[0m\n\u001b[0;32m    388\u001b[0m \u001b[39mexcept\u001b[39;00m \u001b[39mKeyError\u001b[39;00m \u001b[39mas\u001b[39;00m exc:\n\u001b[1;32m--> 389\u001b[0m     \u001b[39mraise\u001b[39;00m \u001b[39mFileNotFoundError\u001b[39;00m \u001b[39mfrom\u001b[39;00m \u001b[39mexc\u001b[39;00m\n\u001b[0;32m    391\u001b[0m \u001b[39mreturn\u001b[39;00m \u001b[39mself\u001b[39m\u001b[39m.\u001b[39m_info_from_entry(key, entry)\n",
      "\u001b[1;31mFileNotFoundError\u001b[0m: ",
      "\nThe above exception was the direct cause of the following exception:\n",
      "\u001b[1;31mFileMissingError\u001b[0m                          Traceback (most recent call last)",
      "Cell \u001b[1;32mIn[2], line 1\u001b[0m\n\u001b[1;32m----> 1\u001b[0m \u001b[39mwith\u001b[39;49;00m dvc\u001b[39m.\u001b[39;49mapi\u001b[39m.\u001b[39;49mopen(\u001b[39m\"\u001b[39;49m\u001b[39mdata/census/data_profiles_census_df.csv\u001b[39;49m\u001b[39m\"\u001b[39;49m) \u001b[39mas\u001b[39;49;00m f:\n\u001b[0;32m      3\u001b[0m     to_keep \u001b[39m=\u001b[39;49m [\u001b[39m\"\u001b[39;49m\u001b[39mDP04_0057E\u001b[39;49m\u001b[39m\"\u001b[39;49m, \u001b[39m\"\u001b[39;49m\u001b[39mDP04_0058E\u001b[39;49m\u001b[39m\"\u001b[39;49m, \u001b[39m\"\u001b[39;49m\u001b[39mDP04_0059E\u001b[39;49m\u001b[39m\"\u001b[39;49m, \u001b[39m\"\u001b[39;49m\u001b[39mDP04_0060E\u001b[39;49m\u001b[39m\"\u001b[39;49m, \u001b[39m\"\u001b[39;49m\u001b[39mDP04_0061E\u001b[39;49m\u001b[39m\"\u001b[39;49m]\n\u001b[0;32m      5\u001b[0m     data_profiles_df \u001b[39m=\u001b[39;49m pd\u001b[39m.\u001b[39;49mread_csv(f, usecols\u001b[39m=\u001b[39;49mto_keep, dtype\u001b[39m=\u001b[39;49m{col: \u001b[39mint\u001b[39;49m \u001b[39mfor\u001b[39;49;00m col \u001b[39min\u001b[39;49;00m to_keep})\n",
      "File \u001b[1;32mC:\\Python311\\Lib\\contextlib.py:137\u001b[0m, in \u001b[0;36m_GeneratorContextManager.__enter__\u001b[1;34m(self)\u001b[0m\n\u001b[0;32m    135\u001b[0m \u001b[39mdel\u001b[39;00m \u001b[39mself\u001b[39m\u001b[39m.\u001b[39margs, \u001b[39mself\u001b[39m\u001b[39m.\u001b[39mkwds, \u001b[39mself\u001b[39m\u001b[39m.\u001b[39mfunc\n\u001b[0;32m    136\u001b[0m \u001b[39mtry\u001b[39;00m:\n\u001b[1;32m--> 137\u001b[0m     \u001b[39mreturn\u001b[39;00m \u001b[39mnext\u001b[39m(\u001b[39mself\u001b[39m\u001b[39m.\u001b[39mgen)\n\u001b[0;32m    138\u001b[0m \u001b[39mexcept\u001b[39;00m \u001b[39mStopIteration\u001b[39;00m:\n\u001b[0;32m    139\u001b[0m     \u001b[39mraise\u001b[39;00m \u001b[39mRuntimeError\u001b[39;00m(\u001b[39m\"\u001b[39m\u001b[39mgenerator didn\u001b[39m\u001b[39m'\u001b[39m\u001b[39mt yield\u001b[39m\u001b[39m\"\u001b[39m) \u001b[39mfrom\u001b[39;00m \u001b[39mNone\u001b[39m\n",
      "File \u001b[1;32mc:\\workspace\\waltham_gis\\.venv\\Lib\\site-packages\\dvc\\api\\data.py:198\u001b[0m, in \u001b[0;36m_open\u001b[1;34m(path, repo, rev, remote, mode, encoding)\u001b[0m\n\u001b[0;32m    196\u001b[0m \u001b[39mdef\u001b[39;00m \u001b[39m_open\u001b[39m(path, repo\u001b[39m=\u001b[39m\u001b[39mNone\u001b[39;00m, rev\u001b[39m=\u001b[39m\u001b[39mNone\u001b[39;00m, remote\u001b[39m=\u001b[39m\u001b[39mNone\u001b[39;00m, mode\u001b[39m=\u001b[39m\u001b[39m\"\u001b[39m\u001b[39mr\u001b[39m\u001b[39m\"\u001b[39m, encoding\u001b[39m=\u001b[39m\u001b[39mNone\u001b[39;00m):\n\u001b[0;32m    197\u001b[0m     \u001b[39mwith\u001b[39;00m Repo\u001b[39m.\u001b[39mopen(repo, rev\u001b[39m=\u001b[39mrev, subrepos\u001b[39m=\u001b[39m\u001b[39mTrue\u001b[39;00m, uninitialized\u001b[39m=\u001b[39m\u001b[39mTrue\u001b[39;00m) \u001b[39mas\u001b[39;00m _repo:\n\u001b[1;32m--> 198\u001b[0m         \u001b[39mwith\u001b[39;49;00m _repo\u001b[39m.\u001b[39;49mopen_by_relpath(\n\u001b[0;32m    199\u001b[0m             path, remote\u001b[39m=\u001b[39;49mremote, mode\u001b[39m=\u001b[39;49mmode, encoding\u001b[39m=\u001b[39;49mencoding\n\u001b[0;32m    200\u001b[0m         ) \u001b[39mas\u001b[39;49;00m fd:\n\u001b[0;32m    201\u001b[0m             \u001b[39myield\u001b[39;49;00m fd\n",
      "File \u001b[1;32mC:\\Python311\\Lib\\contextlib.py:137\u001b[0m, in \u001b[0;36m_GeneratorContextManager.__enter__\u001b[1;34m(self)\u001b[0m\n\u001b[0;32m    135\u001b[0m \u001b[39mdel\u001b[39;00m \u001b[39mself\u001b[39m\u001b[39m.\u001b[39margs, \u001b[39mself\u001b[39m\u001b[39m.\u001b[39mkwds, \u001b[39mself\u001b[39m\u001b[39m.\u001b[39mfunc\n\u001b[0;32m    136\u001b[0m \u001b[39mtry\u001b[39;00m:\n\u001b[1;32m--> 137\u001b[0m     \u001b[39mreturn\u001b[39;00m \u001b[39mnext\u001b[39m(\u001b[39mself\u001b[39m\u001b[39m.\u001b[39mgen)\n\u001b[0;32m    138\u001b[0m \u001b[39mexcept\u001b[39;00m \u001b[39mStopIteration\u001b[39;00m:\n\u001b[0;32m    139\u001b[0m     \u001b[39mraise\u001b[39;00m \u001b[39mRuntimeError\u001b[39;00m(\u001b[39m\"\u001b[39m\u001b[39mgenerator didn\u001b[39m\u001b[39m'\u001b[39m\u001b[39mt yield\u001b[39m\u001b[39m\"\u001b[39m) \u001b[39mfrom\u001b[39;00m \u001b[39mNone\u001b[39m\n",
      "File \u001b[1;32mc:\\workspace\\waltham_gis\\.venv\\Lib\\site-packages\\dvc\\repo\\__init__.py:576\u001b[0m, in \u001b[0;36mRepo.open_by_relpath\u001b[1;34m(self, path, remote, mode, encoding)\u001b[0m\n\u001b[0;32m    574\u001b[0m         \u001b[39myield\u001b[39;00m fobj\n\u001b[0;32m    575\u001b[0m \u001b[39mexcept\u001b[39;00m \u001b[39mFileNotFoundError\u001b[39;00m \u001b[39mas\u001b[39;00m exc:\n\u001b[1;32m--> 576\u001b[0m     \u001b[39mraise\u001b[39;00m FileMissingError(path) \u001b[39mfrom\u001b[39;00m \u001b[39mexc\u001b[39;00m\n\u001b[0;32m    577\u001b[0m \u001b[39mexcept\u001b[39;00m \u001b[39mIsADirectoryError\u001b[39;00m \u001b[39mas\u001b[39;00m exc:\n\u001b[0;32m    578\u001b[0m     \u001b[39mraise\u001b[39;00m DvcIsADirectoryError(\u001b[39mf\u001b[39m\u001b[39m\"\u001b[39m\u001b[39m'\u001b[39m\u001b[39m{\u001b[39;00mpath\u001b[39m}\u001b[39;00m\u001b[39m'\u001b[39m\u001b[39m is a directory\u001b[39m\u001b[39m\"\u001b[39m) \u001b[39mfrom\u001b[39;00m \u001b[39mexc\u001b[39;00m\n",
      "\u001b[1;31mFileMissingError\u001b[0m: Can't find 'data/census/data_profiles_census_df.csv' neither locally nor on remote"
     ]
    }
   ],
   "source": [
    "with dvc.api.open(\"data/census/data_profiles_census_df.csv\") as f:\n",
    "    \n",
    "    to_keep = [\"DP04_0057E\", \"DP04_0058E\", \"DP04_0059E\", \"DP04_0060E\", \"DP04_0061E\"]\n",
    "    \n",
    "    data_profiles_df = pd.read_csv(f, usecols=to_keep, dtype={col: int for col in to_keep})\n",
    "    \n",
    "    data_profiles_df.index.name = \"tract\"\n",
    "    \n",
    "    data_profiles_df = data_profiles_df[to_keep]\n",
    "    \n",
    "    print(data_profiles_df)"
   ]
  },
  {
   "cell_type": "code",
   "execution_count": null,
   "metadata": {},
   "outputs": [
    {
     "name": "stdout",
     "output_type": "stream",
     "text": [
      "         S0101_C01_026E\n",
      "tract                  \n",
      "3681.01            4361\n",
      "3681.02            4690\n",
      "3682.00            3023\n",
      "3683.00            4346\n",
      "3684.00            7091\n",
      "3685.00            2716\n",
      "3686.00            4674\n",
      "3687.00            2310\n",
      "3688.00            4549\n",
      "3689.01            5129\n",
      "3689.02            2689\n",
      "3690.00            4062\n",
      "3691.00            4402\n"
     ]
    }
   ],
   "source": [
    "with dvc.api.open(\"data/census/subject_census_df.csv\") as f:\n",
    "    subject_df = pd.read_csv(f, index_col=0, dtype={\"S0101_C01_026E\": int})\n",
    "    \n",
    "    subject_df.index.name = \"tract\"\n",
    "    \n",
    "    print(subject_df)"
   ]
  },
  {
   "attachments": {},
   "cell_type": "markdown",
   "metadata": {},
   "source": [
    "## Calculate number of adults per car\n",
    "\n",
    "The usual assumption is that every adult in a household unit 'needs' a car, and any new construction should provide that amount of parking,\n",
    "so incoming residents do not use on-street parking for vehicle storage.\n",
    "\n",
    "This is set as ['2 per dwelling unit'](https://ecode360.com/26938091) for family dwellings.\n",
    "\n",
    "This is assuming the typical 'nuclear' family with two adults who are doing the driving. If all adults are driving, one would expect that the number\n",
    "of adults = the number of cars, so this ratio should come out to 1.\n",
    "\n",
    "I have yet to find data that gets the number of cars in a census tract, so I have decided to calculate this from the survey questions as follows:\n",
    "\n",
    "`n_cars = 1 * households with one car + 2 * households with two cars + 3 * households with 3 or more cars`\n",
    "\n",
    "*Assumption* - in most cases, the number of cars in the '3 or more category' is going to tend to be closer to 3 than other values, for most homes.\n",
    "If this assumption is wrong, `n_cars` will be lower than the actual amount."
   ]
  },
  {
   "cell_type": "code",
   "execution_count": null,
   "metadata": {},
   "outputs": [
    {
     "name": "stdout",
     "output_type": "stream",
     "text": [
      "         total_vehicles  total_adults  adults_per_vehicle\n",
      "tract                                                    \n",
      "3681.01            3392          4361            1.285672\n",
      "3681.02            3799          4690            1.234535\n",
      "3682.00            2464          3023            1.226867\n",
      "3683.00            3778          4346            1.150344\n",
      "3684.00            3527          7091            2.010491\n",
      "3685.00            1946          2716            1.395683\n",
      "3686.00            3381          4674            1.382431\n",
      "3687.00            1579          2310            1.462951\n",
      "3688.00            3590          4549            1.267131\n",
      "3689.01            4502          5129            1.139271\n",
      "3689.02            1868          2689            1.439507\n",
      "3690.00              31          4062          131.032258\n",
      "3691.00            3642          4402            1.208677\n"
     ]
    }
   ],
   "source": [
    "# Estimate!!Total!!Total population!!SELECTED AGE CATEGORIES!!18 years and over\n",
    "total_adults = subject_df[\"S0101_C01_026E\"]\n",
    "\n",
    "# # Estimate!!VEHICLES AVAILABLE!!Occupied housing units!!No vehicles available\n",
    "# \"DP04_0058E\",\n",
    "# # Estimate!!VEHICLES AVAILABLE!!Occupied housing units!!1 vehicle available\n",
    "# \"DP04_0059E\",\n",
    "# # Estimate!!VEHICLES AVAILABLE!!Occupied housing units!!2 vehicles available\n",
    "# \"DP04_0060E\",\n",
    "# # Estimate!!VEHICLES AVAILABLE!!Occupied housing units!!3 or more vehicles available\n",
    "# \"DP04_0061E\"\n",
    "parking_mandates_df = pd.DataFrame(columns=[\"total_vehicles\", \"total_adults\", \"adults_per_vehicle\"])\n",
    "\n",
    "parking_mandates_df[\"total_adults\"] = subject_df[\"S0101_C01_026E\"]\n",
    "\n",
    "\n",
    "# ASSUMPTION - more than 3 vehicles will be rare, so assume 3 per household unit for that bucket\n",
    "parking_mandates_df[\"total_vehicles\"] = (1 * data_profiles_df[\"DP04_0059E\"] + 2 * data_profiles_df[\"DP04_0060E\"] + 3 * data_profiles_df[\"DP04_0061E\"]).values\n",
    "\n",
    "parking_mandates_df[\"adults_per_vehicle\"] = parking_mandates_df[\"total_adults\"] / parking_mandates_df[\"total_vehicles\"]\n",
    "\n",
    "print(parking_mandates_df)"
   ]
  },
  {
   "attachments": {},
   "cell_type": "markdown",
   "metadata": {},
   "source": [
    "## Comments\n",
    "\n",
    "Most tracts come in at more than one adult per vehicle, except for tract 3690 and 3684.\n",
    "\n",
    "3690 is mostly Bentley University, so we would expect many adults who are non-driving students.\n",
    "\n",
    "3684 mostly overlaps ward 7, which is dominated by single family homes. It appears that many adults are sharing vehicles, but\n",
    "this tract also contains Brandeis University. \n",
    "\n",
    "*Assumption* - It's not possible to tell if the all of the [3,031 18-24 year olds in tertiary eduation](https://data.census.gov/map?g=0400000US25_1400000US25017368101,25017368102,25017368200,25017368300,25017368400,25017368500,25017368600,25017368700,25017368800,25017368901,25017368902,25017369000,25017369100&tid=ACSST5Y2020.S1401&cid=S1401_C01_030E&layer=VT_2020_140_00_PY_D1&mode=thematic&loc=42.3818,-71.2223,z12.3362) in this tract are going to Brandeis, but assuming they are, the ratio would come out to\n",
    "\n",
    "`(7091 - 3031) / 3527 = ~1.15 adults / vehicle`\n",
    "\n",
    "## Source\n",
    "\n",
    "This data comes from the 5-year American Community Survey estimate from 2020. If anything, I would assume that the number\n",
    "of vehicles would drop somewhat due to more adults no longer needing to commute to an office.\n",
    "\n",
    "You can look at the uncombined data on the tracts [here](https://data.census.gov/map?q=DP04&g=1400000US25017368101,25017368102,25017368200,25017368300,25017368400,25017368500,25017368600,25017368700,25017368800,25017368901,25017368902,25017369000,25017369100&tid=ACSDP5Y2020.DP04&cid=DP04_0060PE&layer=VT_2020_140_00_PY_D1&mode=thematic&loc=42.3628,-71.2427,z13.6751). Change the `Variable(s)` field\n",
    "to see how each tract fits in each category."
   ]
  }
 ],
 "metadata": {
  "kernelspec": {
   "display_name": ".venv",
   "language": "python",
   "name": "python3"
  },
  "language_info": {
   "codemirror_mode": {
    "name": "ipython",
    "version": 3
   },
   "file_extension": ".py",
   "mimetype": "text/x-python",
   "name": "python",
   "nbconvert_exporter": "python",
   "pygments_lexer": "ipython3",
   "version": "3.11.2"
  },
  "orig_nbformat": 4,
  "vscode": {
   "interpreter": {
    "hash": "1755a6182d72ab06ca0344c085c035088f067d029332a5181785e944af4c88ea"
   }
  }
 },
 "nbformat": 4,
 "nbformat_minor": 2
}
