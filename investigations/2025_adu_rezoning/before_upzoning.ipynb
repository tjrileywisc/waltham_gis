{
 "cells": [
  {
   "cell_type": "markdown",
   "metadata": {},
   "source": [
    "# Where could you build ADUs in Waltham before the rezoning?\n"
   ]
  },
  {
   "cell_type": "markdown",
   "metadata": {},
   "source": [
    "## The most optimistic case - any SFH plot can build an ADU\n",
    "\n",
    "This isn't exactly practical for all plots (there is a minimum size of plot or ADU which would make construction unviable) but just as a quick check of the absolute maximum potential:"
   ]
  },
  {
   "cell_type": "code",
   "execution_count": null,
   "metadata": {},
   "outputs": [
    {
     "ename": "",
     "evalue": "",
     "output_type": "error",
     "traceback": [
      "\u001b[1;31mRunning cells with 'Python 3.13.1' requires the ipykernel package.\n",
      "\u001b[1;31mRun the following command to install 'ipykernel' into the Python environment. \n",
      "\u001b[1;31mCommand: '\"c:/Program Files/Python313/python.exe\" -m pip install ipykernel -U --user --force-reinstall'"
     ]
    }
   ],
   "source": [
    "# TODO: get tax parcels, filter to SFH use codes and count"
   ]
  },
  {
   "cell_type": "markdown",
   "metadata": {},
   "source": [
    "## Diving into the regulations\n",
    "\n",
    "The section of our zoning code describing the regulations for ADUs can be found at the link below\n",
    "\n",
    "https://ecode360.com/13128595#13128572\n",
    "\n",
    "Already in the first part of the first full sentence we're off to a bad start - the Board of Appeals must grant a special permit to allow an ADU. No way for there to be a by-right development by outlining\n",
    "a clear set of rules and ministerial approval that the rules were followed to the letter. This is discouraging enough on its own."
   ]
  },
  {
   "cell_type": "markdown",
   "metadata": {},
   "source": [
    "## (a)\n",
    "\n",
    "_The proposed dwelling unit is in harmony with and will promote the purposes of this chapter._\n",
    "\n",
    "This clause seems oddly worded to me. Do they mean 'the regulations below do not override other regulations in this chapter?' This is too vague to check so I won't be doing it here."
   ]
  },
  {
   "cell_type": "markdown",
   "metadata": {},
   "source": [
    "## (b)\n",
    "\n",
    "_The dwelling unit is accessory to the principal residence and either the dwelling unit or the principal residence is occupied by the owner of the lot on which the dwelling unit is to be located, which owner shall have owned the lot for not less than five years._\n",
    "\n",
    "This is the kind of owner occupancy clause that the state law is specifically forbidding. It's just nonsense - why must the owner reside on the lot? And why a five year minimum residency requirement?\n",
    "\n",
    "We don't have a foolproof way of checking residency, so we'll go with our current method of 'matching a lot of characters' in the owner address on the tax records matching the site address."
   ]
  },
  {
   "cell_type": "code",
   "execution_count": null,
   "metadata": {},
   "outputs": [],
   "source": [
    "# TODO: get ownership table, find SFH parcels"
   ]
  },
  {
   "cell_type": "markdown",
   "metadata": {},
   "source": [
    "## Requirement for pre-existing buildings"
   ]
  },
  {
   "cell_type": "markdown",
   "metadata": {},
   "source": []
  }
 ],
 "metadata": {
  "kernelspec": {
   "display_name": "Python 3",
   "language": "python",
   "name": "python3"
  },
  "language_info": {
   "name": "python",
   "version": "3.13.1"
  }
 },
 "nbformat": 4,
 "nbformat_minor": 2
}
